{
 "cells": [
  {
   "cell_type": "code",
   "execution_count": 1,
   "metadata": {},
   "outputs": [],
   "source": [
    "%run utils.ipynb\n",
    "random.seed(1)\n",
    "import multiprocessing as mp"
   ]
  },
  {
   "cell_type": "code",
   "execution_count": 2,
   "metadata": {},
   "outputs": [],
   "source": [
    "root_dir = \"./files/4_split_400/\"\n",
    "# 12,238 张图片"
   ]
  },
  {
   "cell_type": "code",
   "execution_count": 3,
   "metadata": {},
   "outputs": [
    {
     "name": "stdout",
     "output_type": "stream",
     "text": [
      "400 classes\n"
     ]
    },
    {
     "data": {
      "text/plain": [
       "'./files/4_split_400/海马--海马--福美来--2012--2013'"
      ]
     },
     "execution_count": 3,
     "metadata": {},
     "output_type": "execute_result"
    }
   ],
   "source": [
    "class_dirs = [os.path.join(root_dir, i) for i in os.listdir(root_dir)]\n",
    "\n",
    "random.shuffle(class_dirs)\n",
    "print(f\"{len(class_dirs)} classes\")\n",
    "class_dirs[0]"
   ]
  },
  {
   "cell_type": "code",
   "execution_count": 4,
   "metadata": {},
   "outputs": [],
   "source": [
    "class_dirs = class_dirs[:200]"
   ]
  },
  {
   "cell_type": "code",
   "execution_count": 5,
   "metadata": {},
   "outputs": [
    {
     "data": {
      "application/vnd.jupyter.widget-view+json": {
       "model_id": "96edb94e3ea9434bbc087f84411bc66b",
       "version_major": 2,
       "version_minor": 0
      },
      "text/plain": [
       "HBox(children=(FloatProgress(value=1.0, bar_style='info', max=1.0), HTML(value='')))"
      ]
     },
     "metadata": {},
     "output_type": "display_data"
    },
    {
     "name": "stderr",
     "output_type": "stream",
     "text": [
      "/home/dasen/anaconda3/lib/python3.7/site-packages/ipykernel_launcher.py:51: RuntimeWarning: invalid value encountered in true_divide\n"
     ]
    },
    {
     "name": "stdout",
     "output_type": "stream",
     "text": [
      "\n",
      "feature dim : 1188\n",
      "train num : 2966\n",
      "test num : 2964\n",
      "CPU times: user 16min 30s, sys: 4.12 s, total: 16min 34s\n",
      "Wall time: 3min 41s\n"
     ]
    }
   ],
   "source": [
    "%%time\n",
    "\n",
    "x_train, y_train = [], []\n",
    "x_test, y_test = [], []\n",
    "\n",
    "for class_label, class_dir in tqdm(enumerate(class_dirs)):\n",
    "    train_list, test_list = list_split(get_all_images(class_dir, shuffle = False), ratio = [0.5, 0.5], shuffle = True)\n",
    "    try:\n",
    "        for image_path in train_list:    \n",
    "            _, _, roi = roi_extraction(image_path).compute()\n",
    "\n",
    "#             _, _, roi = roi_extraction_1(image_path)\n",
    "#             _, _, roi = roi_extraction_2(image_path)\n",
    "            roi = resize(roi, is_gray = True, width = 300, height = 100)\n",
    "            feature = HOG_feature_2(roi)\n",
    "            x_train.append(feature)\n",
    "            y_train.append(class_label)\n",
    "\n",
    "        for image_path in test_list:    \n",
    "            _, _, roi = roi_extraction(image_path).compute()\n",
    "#             _, _, roi = roi_extraction_1(image_path)\n",
    "#             _, _, roi = roi_extraction_2(image_path)\n",
    "            roi = resize(roi, is_gray = True, width = 300, height = 100)\n",
    "    #         feature = cvhog.compute(roi)\n",
    "            feature = HOG_feature_2(roi)\n",
    "            x_test.append(feature)\n",
    "            y_test.append(class_label)\n",
    "    except KeyError:\n",
    "        continue\n",
    "        print(image_path)\n",
    "\n",
    "\n",
    "\n",
    "f_dim = x_test[0].shape[0]\n",
    "print(f\"feature dim : {f_dim}\")\n",
    "\n",
    "x_train = np.asarray(x_train).reshape(-1, f_dim)\n",
    "x_test = np.asarray(x_test).reshape(-1, f_dim)\n",
    "print(f\"train num : {x_train.shape[0]}\")\n",
    "print(f\"test num : {x_test.shape[0]}\")"
   ]
  },
  {
   "cell_type": "code",
   "execution_count": 6,
   "metadata": {},
   "outputs": [
    {
     "name": "stdout",
     "output_type": "stream",
     "text": [
      "SVC(C=7, break_ties=False, cache_size=200, class_weight=None, coef0=0.0,\n",
      "    decision_function_shape='ovo', degree=3, gamma=5, kernel='linear',\n",
      "    max_iter=-1, probability=False, random_state=None, shrinking=True,\n",
      "    tol=0.001, verbose=False)\n",
      "CPU times: user 10.2 s, sys: 104 ms, total: 10.3 s\n",
      "Wall time: 1min 3s\n"
     ]
    }
   ],
   "source": [
    "%%time\n",
    "\n",
    "clf = svm.SVC()\n",
    "\n",
    "parameters = {\n",
    "              'kernel':['linear'],   #, \"rbf\"\n",
    "              'C': np.arange(1, 15, 1), \n",
    "              'gamma': np.arange(1, 15, 1),\n",
    "              'decision_function_shape':['ovo','ovr']\n",
    "              }\n",
    "\n",
    "\n",
    "# run randomized search\n",
    "n_iter_search = 10\n",
    "clf = RandomizedSearchCV(clf, \n",
    "                         param_distributions=parameters, \n",
    "                         n_iter=n_iter_search,\n",
    "                         n_jobs=-1,\n",
    "                         cv = 3,\n",
    "#                        pre_dispatch='2*n_jobs'\n",
    "                            )\n",
    "\n",
    "\n",
    "clf.fit(x_train, y_train)\n",
    "print(clf.best_estimator_)"
   ]
  },
  {
   "cell_type": "raw",
   "metadata": {},
   "source": [
    "SVC(C=11, break_ties=False, cache_size=200, class_weight=None, coef0=0.0,\n",
    "    decision_function_shape='ovr', degree=3, gamma=19, kernel='linear',\n",
    "    max_iter=-1, probability=False, random_state=None, shrinking=True,\n",
    "    tol=0.001, verbose=False)\n",
    "CPU times: user 2min 34s, sys: 197 ms, total: 2min 35s\n",
    "Wall time: 20min 37s"
   ]
  },
  {
   "cell_type": "code",
   "execution_count": 7,
   "metadata": {},
   "outputs": [
    {
     "name": "stdout",
     "output_type": "stream",
     "text": [
      "CPU times: user 11.4 s, sys: 111 µs, total: 11.4 s\n",
      "Wall time: 11.4 s\n"
     ]
    }
   ],
   "source": [
    "%%time\n",
    "# Make predictions on unseen test data\n",
    "y_pred = clf.predict(x_test)\n",
    "# print(\"Accuracy: {}%\".format(clf_grid.score(x_test, y_test) * 100 ))"
   ]
  },
  {
   "cell_type": "code",
   "execution_count": 8,
   "metadata": {},
   "outputs": [
    {
     "name": "stdout",
     "output_type": "stream",
     "text": [
      "Over all acc : 91.36%\n",
      "mean prec : 90.35%\n",
      "mean recall : 88.79%\n"
     ]
    },
    {
     "name": "stderr",
     "output_type": "stream",
     "text": [
      "/home/dasen/anaconda3/lib/python3.7/site-packages/sklearn/metrics/_classification.py:1272: UndefinedMetricWarning: Precision is ill-defined and being set to 0.0 in labels with no predicted samples. Use `zero_division` parameter to control this behavior.\n",
      "  _warn_prf(average, modifier, msg_start, len(result))\n"
     ]
    }
   ],
   "source": [
    "overall_acc = overall_accuracy(y_test, y_pred)\n",
    "m_prec = mean_prec(y_test, y_pred)\n",
    "m_recall = mean_recall(y_test, y_pred)\n",
    "\n",
    "print(f\"Over all acc : {overall_acc*100:.2f}%\\nmean prec : {m_prec*100:.2f}%\\nmean recall : {m_recall*100:.2f}%\")"
   ]
  },
  {
   "cell_type": "raw",
   "metadata": {},
   "source": [
    "前200各类别，50%训练\n",
    "\n",
    "width = 300, height = 100\n",
    "winSize = (300, 100) \n",
    "blockSize = (50, 50)\n",
    "blockStride = (25, 25)\n",
    "cellSize = (25,25)\n",
    "nbins = 9\n",
    "norm = L2\n",
    "\n",
    "\n",
    "\n",
    "roi_1的结果：\n",
    "Over all acc : 92.68%\n",
    "mean prec : 92.43%\n",
    "mean recall : 90.70%\n",
    "\n",
    "roi_2的结果\n",
    "Over all acc : 82.62%\n",
    "mean prec : 82.02%\n",
    "mean recall : 78.50%\n",
    "\n",
    "\n",
    "ours的结果 \n",
    "beta = 1.2\n",
    "gamma = 0.8\n",
    "Over all acc : 87.31%\n",
    "mean prec : 86.41%\n",
    "mean recall : 82.70%\n",
    "\n",
    "\n",
    "beta = 1.1\n",
    "gamma = 0.8\n",
    "Over all acc : 87.92%\n",
    "mean prec : 86.66%\n",
    "mean recall : 83.35%\n",
    "\n",
    "beta = 1\n",
    "gamma = 0.8\n",
    "Over all acc : 90.59%\n",
    "mean prec : 89.29%\n",
    "mean recall : 87.30%\n",
    "\n",
    "\n",
    "beta = 1\n",
    "gamma = 0.7\n",
    "Over all acc : 88.63%\n",
    "mean prec : 87.85%\n",
    "mean recall : 84.92%\n",
    "\n",
    "beta = 1\n",
    "gamma = 0.75\n",
    "Over all acc : 89.47%\n",
    "mean prec : 89.08%\n",
    "mean recall : 86.13%\n",
    "\n",
    "\n",
    "（上下）\n",
    "beta = 1\n",
    "gamma = 0.8\n",
    "（左右）\n",
    "alpha = 1.2\n",
    "beta = 0.9\n",
    "\n",
    "Over all acc : 90.59%\n",
    "mean prec : 89.29%\n",
    "mean recall : 87.30%\n",
    "\n",
    "\n",
    "\n",
    "（上下）  当前最优的参数，有待进一步调整\n",
    "beta = 1\n",
    "gamma = 0.8\n",
    "（左右）\n",
    "alpha = 1.1\n",
    "beta = 0.9\n",
    "\n",
    "Over all acc : 91.36%\n",
    "mean prec : 90.35%\n",
    "mean recall : 88.79%    \n",
    "\n",
    "\n",
    "（上下）\n",
    "beta = 1\n",
    "gamma = 0.8\n",
    "（左右）\n",
    "alpha = 1.1\n",
    "beta = 0.8\n",
    "\n",
    "\n",
    "Over all acc : 90.11%\n",
    "mean prec : 89.21%\n",
    "mean recall : 87.32%\n",
    "\n",
    "\n",
    "（上下）\n",
    "beta = 1\n",
    "gamma = 0.8\n",
    "（左右）\n",
    "alpha = 1.3\n",
    "beta = 0.9\n",
    "\n",
    "Over all acc : 90.62%\n",
    "mean prec : 89.82%\n",
    "mean recall : 87.25%\n",
    "\n",
    "\n",
    "\n",
    "（上下） \n",
    "beta = 1\n",
    "gamma = 0.8\n",
    "（左右）\n",
    "alpha = 1.1\n",
    "beta = 0.85\n",
    "\n",
    "Over all acc : 90.65%\n",
    "mean prec : 89.57%\n",
    "mean recall : 87.82%\n"
   ]
  },
  {
   "cell_type": "markdown",
   "metadata": {},
   "source": [
    "\n",
    "\n"
   ]
  }
 ],
 "metadata": {
  "kernelspec": {
   "display_name": "Python 3",
   "language": "python",
   "name": "python3"
  },
  "language_info": {
   "codemirror_mode": {
    "name": "ipython",
    "version": 3
   },
   "file_extension": ".py",
   "mimetype": "text/x-python",
   "name": "python",
   "nbconvert_exporter": "python",
   "pygments_lexer": "ipython3",
   "version": "3.7.7"
  },
  "varInspector": {
   "cols": {
    "lenName": 16,
    "lenType": 16,
    "lenVar": 40
   },
   "kernels_config": {
    "python": {
     "delete_cmd_postfix": "",
     "delete_cmd_prefix": "del ",
     "library": "var_list.py",
     "varRefreshCmd": "print(var_dic_list())"
    },
    "r": {
     "delete_cmd_postfix": ") ",
     "delete_cmd_prefix": "rm(",
     "library": "var_list.r",
     "varRefreshCmd": "cat(var_dic_list()) "
    }
   },
   "position": {
    "height": "144px",
    "left": "1069px",
    "right": "20px",
    "top": "120px",
    "width": "350px"
   },
   "types_to_exclude": [
    "module",
    "function",
    "builtin_function_or_method",
    "instance",
    "_Feature"
   ],
   "window_display": false
  }
 },
 "nbformat": 4,
 "nbformat_minor": 4
}
