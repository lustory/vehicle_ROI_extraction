{
 "cells": [
  {
   "cell_type": "code",
   "execution_count": 1,
   "metadata": {},
   "outputs": [],
   "source": [
    "%run utils.ipynb\n",
    "random.seed(0)"
   ]
  },
  {
   "cell_type": "code",
   "execution_count": 2,
   "metadata": {},
   "outputs": [],
   "source": [
    "root_dir = \"./files/vehicle_models\""
   ]
  },
  {
   "cell_type": "code",
   "execution_count": 3,
   "metadata": {},
   "outputs": [
    {
     "name": "stdout",
     "output_type": "stream",
     "text": [
      "160 classes\n"
     ]
    }
   ],
   "source": [
    "class_dirs = [os.path.join(root_dir, i) for i in os.listdir(root_dir)]\n",
    "random.shuffle(class_dirs)\n",
    "print(f\"{len(class_dirs)} classes\")"
   ]
  },
  {
   "cell_type": "code",
   "execution_count": 4,
   "metadata": {},
   "outputs": [],
   "source": [
    "class_dirs = class_dirs[:80]"
   ]
  },
  {
   "cell_type": "code",
   "execution_count": 5,
   "metadata": {},
   "outputs": [],
   "source": [
    "x_train, y_train = [], []\n",
    "x_test, y_test = [], []"
   ]
  },
  {
   "cell_type": "code",
   "execution_count": 6,
   "metadata": {},
   "outputs": [
    {
     "data": {
      "application/vnd.jupyter.widget-view+json": {
       "model_id": "be5f75988b6f43209f3576c9acb9c579",
       "version_major": 2,
       "version_minor": 0
      },
      "text/plain": [
       "HBox(children=(FloatProgress(value=1.0, bar_style='info', max=1.0), HTML(value='')))"
      ]
     },
     "metadata": {},
     "output_type": "display_data"
    },
    {
     "name": "stdout",
     "output_type": "stream",
     "text": [
      "\n",
      "CPU times: user 1min 14s, sys: 1.72 s, total: 1min 16s\n",
      "Wall time: 1min 7s\n"
     ]
    }
   ],
   "source": [
    "%%time\n",
    "for class_label, class_dir in tqdm(enumerate(class_dirs)):\n",
    "    train_list, test_list = list_split(get_all_images(class_dir, shuffle = False),\n",
    "                                       ratio = [0.6, 0.4], shuffle = False)\n",
    "    for image_path in train_list:    \n",
    "        _, _, roi = roi_extraction_1(image_path)\n",
    "        roi = resize(roi, is_gray = True, width = 320, height = 160)\n",
    "        feature = cvhog.compute(roi)\n",
    "        x_train.append(feature)\n",
    "        y_train.append(class_label)\n",
    " \n",
    "    for image_path in test_list:    \n",
    "        _, _, roi = roi_extraction_1(image_path)\n",
    "        roi = resize(roi, is_gray = True, width = 320, height = 160)\n",
    "        feature = cvhog.compute(roi)\n",
    "        x_test.append(feature)\n",
    "        y_test.append(class_label)"
   ]
  },
  {
   "cell_type": "code",
   "execution_count": 7,
   "metadata": {},
   "outputs": [
    {
     "name": "stdout",
     "output_type": "stream",
     "text": [
      "feature dim : 3780\n"
     ]
    }
   ],
   "source": [
    "f_dim = x_test[0].shape[0]\n",
    "print(f\"feature dim : {f_dim}\")"
   ]
  },
  {
   "cell_type": "code",
   "execution_count": 8,
   "metadata": {},
   "outputs": [],
   "source": [
    "x_train = np.asarray(x_train).reshape(-1, f_dim)\n",
    "x_test = np.asarray(x_test).reshape(-1, f_dim)"
   ]
  },
  {
   "cell_type": "code",
   "execution_count": 9,
   "metadata": {},
   "outputs": [
    {
     "data": {
      "text/plain": [
       "(1447, 3780)"
      ]
     },
     "execution_count": 9,
     "metadata": {},
     "output_type": "execute_result"
    }
   ],
   "source": [
    "x_train.shape"
   ]
  },
  {
   "cell_type": "code",
   "execution_count": 10,
   "metadata": {},
   "outputs": [
    {
     "name": "stdout",
     "output_type": "stream",
     "text": [
      "Fitting 5 folds for each of 24 candidates, totalling 120 fits\n"
     ]
    },
    {
     "name": "stderr",
     "output_type": "stream",
     "text": [
      "[Parallel(n_jobs=1)]: Using backend SequentialBackend with 1 concurrent workers.\n",
      "[Parallel(n_jobs=1)]: Done 120 out of 120 | elapsed: 20.6min finished\n"
     ]
    },
    {
     "name": "stdout",
     "output_type": "stream",
     "text": [
      "Best Parameters:\n",
      " {'C': 100, 'gamma': 0.001}\n",
      "Best Estimators:\n",
      " SVC(C=100, break_ties=False, cache_size=200, class_weight=None, coef0=0.0,\n",
      "    decision_function_shape='ovr', degree=3, gamma=0.001, kernel='rbf',\n",
      "    max_iter=-1, probability=False, random_state=None, shrinking=True,\n",
      "    tol=0.001, verbose=False)\n",
      "CPU times: user 20min 44s, sys: 414 ms, total: 20min 44s\n",
      "Wall time: 20min 44s\n"
     ]
    }
   ],
   "source": [
    "%%time\n",
    "# Grid Search\n",
    "# Parameter Grid\n",
    "param_grid = {'C': [0.1, 1, 10, 100], 'gamma': [1, 0.1, 0.01, 0.001, 0.00001, 10]}\n",
    " \n",
    "# Make grid search classifier\n",
    "clf_grid = GridSearchCV(svm.SVC(), param_grid, verbose=1, pre_dispatch = cpu_count//2)\n",
    " \n",
    "# Train the classifier\n",
    "clf_grid.fit(x_train, y_train)\n",
    " \n",
    "# clf = grid.best_estimator_()\n",
    "print(\"Best Parameters:\\n\", clf_grid.best_params_)\n",
    "print(\"Best Estimators:\\n\", clf_grid.best_estimator_)"
   ]
  },
  {
   "cell_type": "code",
   "execution_count": 11,
   "metadata": {},
   "outputs": [
    {
     "name": "stdout",
     "output_type": "stream",
     "text": [
      "Accuracy: 97.32510288065843%\n"
     ]
    }
   ],
   "source": [
    "# Make predictions on unseen test data\n",
    "y_pred = clf_grid.predict(x_test)\n",
    "print(\"Accuracy: {}%\".format(clf_grid.score(x_test, y_test) * 100 ))"
   ]
  },
  {
   "cell_type": "code",
   "execution_count": 12,
   "metadata": {},
   "outputs": [
    {
     "name": "stdout",
     "output_type": "stream",
     "text": [
      "Over all acc : 97.33%\n",
      "mean prec : 97.64%\n",
      "mean recall : 95.97%\n"
     ]
    }
   ],
   "source": [
    "overall_acc = overall_accuracy(y_test, y_pred)\n",
    "m_prec = mean_prec(y_test, y_pred)\n",
    "m_recall = mean_recall(y_test, y_pred)\n",
    "\n",
    "print(f\"Over all acc : {overall_acc*100:.2f}%\\nmean prec : {m_prec*100:.2f}%\\nmean recall : {m_recall*100:.2f}%\")"
   ]
  },
  {
   "cell_type": "code",
   "execution_count": null,
   "metadata": {},
   "outputs": [],
   "source": []
  },
  {
   "cell_type": "code",
   "execution_count": null,
   "metadata": {},
   "outputs": [],
   "source": []
  },
  {
   "cell_type": "code",
   "execution_count": null,
   "metadata": {},
   "outputs": [],
   "source": []
  },
  {
   "cell_type": "code",
   "execution_count": null,
   "metadata": {},
   "outputs": [],
   "source": []
  },
  {
   "cell_type": "code",
   "execution_count": null,
   "metadata": {},
   "outputs": [],
   "source": []
  },
  {
   "cell_type": "code",
   "execution_count": null,
   "metadata": {},
   "outputs": [],
   "source": []
  },
  {
   "cell_type": "markdown",
   "metadata": {},
   "source": [
    "- roi plan 1"
   ]
  },
  {
   "cell_type": "raw",
   "metadata": {},
   "source": [
    "lp_coords, roi_coords, roi = roi_extraction_1(image_path)\n",
    "lp_x1, lp_y1, lp_x2, lp_y2 = lp_coords\n",
    "roi_x1, roi_y1, roi_x2, roi_y2 = roi_coords"
   ]
  },
  {
   "cell_type": "raw",
   "metadata": {},
   "source": [
    "image = imread(image_path)"
   ]
  },
  {
   "cell_type": "raw",
   "metadata": {},
   "source": [
    "plt.figure(figsize=(16, 6.5))\n",
    "\n",
    "plt.title(\"ROI plan 1\")\n",
    "plt.imshow(image)\n",
    "plt.gca().add_patch(plt.Rectangle(xy = (lp_x1, lp_y1), \n",
    "                                  width = lp_x2 - lp_x1, height = lp_y2 - lp_y1, edgecolor = 'red', fill = False, linewidth = 2))\n",
    "\n",
    "plt.gca().add_patch(plt.Rectangle(xy = (roi_x1, roi_y1), \n",
    "                                  width = roi_x2 - roi_x1, height = roi_y2 - roi_y1, edgecolor = 'red', fill = False, linewidth = 2))\n",
    "\n",
    "plt.plot()\n",
    "plt.axis(\"off\");"
   ]
  },
  {
   "cell_type": "raw",
   "metadata": {},
   "source": [
    "lp_coords, roi_coords, roi = roi_extraction_2(image_path)\n",
    "lp_x1, lp_y1, lp_x2, lp_y2 = lp_coords\n",
    "roi_x1, roi_y1, roi_x2, roi_y2 = roi_coords"
   ]
  },
  {
   "cell_type": "raw",
   "metadata": {},
   "source": [
    "plt.figure(figsize=(16, 6.5))\n",
    "\n",
    "plt.title(\"ROI plan 2\")\n",
    "plt.imshow(image)\n",
    "plt.gca().add_patch(plt.Rectangle(xy = (lp_x1, lp_y1), \n",
    "                                  width = lp_x2 - lp_x1, height = lp_y2 - lp_y1, edgecolor = 'red', fill = False, linewidth = 2))\n",
    "\n",
    "plt.gca().add_patch(plt.Rectangle(xy = (roi_x1, roi_y1), \n",
    "                                  width = roi_x2 - roi_x1, height = roi_y2 - roi_y1, edgecolor = 'red', fill = False, linewidth = 2))\n",
    "\n",
    "plt.plot()\n",
    "plt.axis(\"off\");"
   ]
  },
  {
   "cell_type": "code",
   "execution_count": null,
   "metadata": {},
   "outputs": [],
   "source": []
  },
  {
   "cell_type": "code",
   "execution_count": null,
   "metadata": {},
   "outputs": [],
   "source": []
  },
  {
   "cell_type": "raw",
   "metadata": {},
   "source": [
    "image = imread(image_path)"
   ]
  },
  {
   "cell_type": "raw",
   "metadata": {},
   "source": [
    "plt.figure(figsize = (18, 6))\n",
    "plt.imshow(image)"
   ]
  },
  {
   "cell_type": "code",
   "execution_count": null,
   "metadata": {},
   "outputs": [],
   "source": []
  },
  {
   "cell_type": "code",
   "execution_count": null,
   "metadata": {},
   "outputs": [],
   "source": []
  },
  {
   "cell_type": "code",
   "execution_count": null,
   "metadata": {},
   "outputs": [],
   "source": []
  },
  {
   "cell_type": "code",
   "execution_count": null,
   "metadata": {},
   "outputs": [],
   "source": []
  }
 ],
 "metadata": {
  "kernelspec": {
   "display_name": "Python 3",
   "language": "python",
   "name": "python3"
  },
  "language_info": {
   "codemirror_mode": {
    "name": "ipython",
    "version": 3
   },
   "file_extension": ".py",
   "mimetype": "text/x-python",
   "name": "python",
   "nbconvert_exporter": "python",
   "pygments_lexer": "ipython3",
   "version": "3.6.9"
  },
  "varInspector": {
   "cols": {
    "lenName": 16,
    "lenType": 16,
    "lenVar": 40
   },
   "kernels_config": {
    "python": {
     "delete_cmd_postfix": "",
     "delete_cmd_prefix": "del ",
     "library": "var_list.py",
     "varRefreshCmd": "print(var_dic_list())"
    },
    "r": {
     "delete_cmd_postfix": ") ",
     "delete_cmd_prefix": "rm(",
     "library": "var_list.r",
     "varRefreshCmd": "cat(var_dic_list()) "
    }
   },
   "types_to_exclude": [
    "module",
    "function",
    "builtin_function_or_method",
    "instance",
    "_Feature"
   ],
   "window_display": false
  }
 },
 "nbformat": 4,
 "nbformat_minor": 4
}
