{
 "cells": [
  {
   "cell_type": "code",
   "execution_count": 1,
   "metadata": {},
   "outputs": [],
   "source": [
    "%run utils.ipynb\n",
    "random.seed(1)"
   ]
  },
  {
   "cell_type": "code",
   "execution_count": 2,
   "metadata": {},
   "outputs": [],
   "source": [
    "root_dir = \"./files/4_split_400/\""
   ]
  },
  {
   "cell_type": "code",
   "execution_count": 3,
   "metadata": {},
   "outputs": [
    {
     "name": "stdout",
     "output_type": "stream",
     "text": [
      "400 classes\n"
     ]
    }
   ],
   "source": [
    "class_dirs = [os.path.join(root_dir, i) for i in os.listdir(root_dir)]\n",
    "random.shuffle(class_dirs)\n",
    "print(f\"{len(class_dirs)} classes\")"
   ]
  },
  {
   "cell_type": "code",
   "execution_count": 4,
   "metadata": {},
   "outputs": [],
   "source": [
    "class_dirs = class_dirs[:300]"
   ]
  },
  {
   "cell_type": "code",
   "execution_count": 5,
   "metadata": {},
   "outputs": [],
   "source": [
    "x_train, y_train = [], []\n",
    "x_test, y_test = [], []"
   ]
  },
  {
   "cell_type": "code",
   "execution_count": 6,
   "metadata": {},
   "outputs": [
    {
     "data": {
      "application/vnd.jupyter.widget-view+json": {
       "model_id": "fcb1a36a7b8b4966a41e7e4466e8cc0e",
       "version_major": 2,
       "version_minor": 0
      },
      "text/plain": [
       "HBox(children=(FloatProgress(value=1.0, bar_style='info', max=1.0), HTML(value='')))"
      ]
     },
     "metadata": {},
     "output_type": "display_data"
    },
    {
     "name": "stdout",
     "output_type": "stream",
     "text": [
      "files/4_split_400/广汽传祺--广汽传祺--传祺GS5--2012--2013--2014/传祺GS5__传祺GS5__2013款1.8T自动四驱尊贵版__9070813016674127f787cbfa4769270e1ff6fc18.jpg\n",
      "files/4_split_400/吉利v3--吉利--金刚--2009/吉利金刚2代__金刚2代__2009款1.5L—MT标准型__cf5393ba1dc83d6bf64bd1b2f4588a5e27a4db43.jpg\n",
      "files/4_split_400/奇瑞--奇瑞汽车--风云2--两厢--2010--三厢--2010/风云2两厢__风云2两厢__2010款1.5—MT进取型__5e375c6383324ac428eb8999a3cddd9bff57d200.jpg\n",
      "files/4_split_400/菲亚特--广汽菲亚特--致悦--2014_v2--2015/致悦__致悦__2014款1.4T双离合豪华运动版__9447830e9d2d4142d9b1a1d046597cc1ed5042e6.jpg\n",
      "files/4_split_400/别克--上海通用别克--凯越--2013/凯越__凯越__2013款1.5L手动尊享型__04cde12d91a26e1c3ebab78501ba49525638a7d0.jpg\n"
     ]
    },
    {
     "name": "stderr",
     "output_type": "stream",
     "text": [
      "/usr/local/lib/python3.6/dist-packages/ipykernel_launcher.py:30: RuntimeWarning: invalid value encountered in true_divide\n"
     ]
    },
    {
     "name": "stdout",
     "output_type": "stream",
     "text": [
      "files/4_split_400/奇瑞--奇瑞汽车--奇瑞QQ3--2004--2007--2010--2011--2012_v1/奇瑞QQ3__QQ3__2010款0.8手动冠军版__88b1680a13405d1a64b6a638aec0368fe2f85f2c.jpg\n",
      "\n",
      "CPU times: user 7min 24s, sys: 9.82 s, total: 7min 34s\n",
      "Wall time: 4min 42s\n"
     ]
    }
   ],
   "source": [
    "%%time\n",
    "for class_label, class_dir in tqdm(enumerate(class_dirs)):\n",
    "    train_list, test_list = list_split(get_all_images(class_dir, shuffle = False),\n",
    "                                       ratio = [0.4, 0.6], shuffle = False)\n",
    "    try:\n",
    "        for image_path in train_list:    \n",
    "            _, _, roi = roi_extraction_with_hood(image_path)\n",
    "            roi = resize(roi, is_gray = True, width = 256, height = 128)\n",
    "            feature = cvhog.compute(roi)\n",
    "            x_train.append(feature)\n",
    "            y_train.append(class_label)\n",
    " \n",
    "        for image_path in test_list:    \n",
    "            _, _, roi = roi_extraction_with_hood(image_path)\n",
    "            roi = resize(roi, is_gray = True, width = 256, height = 128)\n",
    "            feature = cvhog.compute(roi)\n",
    "            x_test.append(feature)\n",
    "            y_test.append(class_label)\n",
    "    except:\n",
    "        print(image_path)"
   ]
  },
  {
   "cell_type": "code",
   "execution_count": 7,
   "metadata": {},
   "outputs": [
    {
     "name": "stdout",
     "output_type": "stream",
     "text": [
      "feature dim : 756\n"
     ]
    }
   ],
   "source": [
    "f_dim = x_test[0].shape[0]\n",
    "print(f\"feature dim : {f_dim}\")"
   ]
  },
  {
   "cell_type": "code",
   "execution_count": 8,
   "metadata": {},
   "outputs": [],
   "source": [
    "x_train = np.asarray(x_train).reshape(-1, f_dim)\n",
    "x_test = np.asarray(x_test).reshape(-1, f_dim)"
   ]
  },
  {
   "cell_type": "code",
   "execution_count": 9,
   "metadata": {},
   "outputs": [
    {
     "data": {
      "text/plain": [
       "(3818, 756)"
      ]
     },
     "execution_count": 9,
     "metadata": {},
     "output_type": "execute_result"
    }
   ],
   "source": [
    "x_train.shape"
   ]
  },
  {
   "cell_type": "code",
   "execution_count": 10,
   "metadata": {},
   "outputs": [
    {
     "name": "stdout",
     "output_type": "stream",
     "text": [
      "Fitting 3 folds for each of 24 candidates, totalling 72 fits\n"
     ]
    },
    {
     "name": "stderr",
     "output_type": "stream",
     "text": [
      "[Parallel(n_jobs=-1)]: Using backend LokyBackend with 8 concurrent workers.\n",
      "[Parallel(n_jobs=-1)]: Done  34 tasks      | elapsed:  1.8min\n",
      "[Parallel(n_jobs=-1)]: Done  72 out of  72 | elapsed:  3.3min finished\n"
     ]
    },
    {
     "name": "stdout",
     "output_type": "stream",
     "text": [
      "Best Parameters:\n",
      " {'C': 100, 'gamma': 0.01}\n",
      "Best Estimators:\n",
      " SVC(C=100, break_ties=False, cache_size=200, class_weight=None, coef0=0.0,\n",
      "    decision_function_shape='ovr', degree=3, gamma=0.01, kernel='rbf',\n",
      "    max_iter=-1, probability=False, random_state=None, shrinking=True,\n",
      "    tol=0.001, verbose=False)\n",
      "CPU times: user 14 s, sys: 59.8 ms, total: 14 s\n",
      "Wall time: 3min 29s\n"
     ]
    }
   ],
   "source": [
    "%%time\n",
    "# Grid Search\n",
    "# Parameter Grid\n",
    "param_grid = {'C': [0.1, 1, 10, 100], 'gamma': [1, 0.1, 0.01, 0.001, 0.00001, 10]}\n",
    " \n",
    "# Make grid search classifier\n",
    "clf_grid = GridSearchCV(svm.SVC(), param_grid, verbose=1, cv = 3, n_jobs = -1) #, pre_dispatch = cpu_count//2\n",
    " \n",
    "# Train the classifier\n",
    "clf_grid.fit(x_train, y_train)\n",
    "\n",
    "# clf = grid.best_estimator_()\n",
    "print(\"Best Parameters:\\n\", clf_grid.best_params_)\n",
    "print(\"Best Estimators:\\n\", clf_grid.best_estimator_)"
   ]
  },
  {
   "cell_type": "code",
   "execution_count": 11,
   "metadata": {},
   "outputs": [],
   "source": [
    "# Make predictions on unseen test data\n",
    "y_pred = clf_grid.predict(x_test)\n",
    "# print(\"Accuracy: {}%\".format(clf_grid.score(x_test, y_test) * 100 ))"
   ]
  },
  {
   "cell_type": "code",
   "execution_count": 12,
   "metadata": {},
   "outputs": [
    {
     "name": "stdout",
     "output_type": "stream",
     "text": [
      "Over all acc : 81.47%\n",
      "mean prec : 79.16%\n",
      "mean recall : 73.64%\n"
     ]
    },
    {
     "name": "stderr",
     "output_type": "stream",
     "text": [
      "/usr/local/lib/python3.6/dist-packages/sklearn/metrics/_classification.py:1272: UndefinedMetricWarning: Precision is ill-defined and being set to 0.0 in labels with no predicted samples. Use `zero_division` parameter to control this behavior.\n",
      "  _warn_prf(average, modifier, msg_start, len(result))\n",
      "/usr/local/lib/python3.6/dist-packages/sklearn/metrics/_classification.py:1272: UndefinedMetricWarning: Recall is ill-defined and being set to 0.0 in labels with no true samples. Use `zero_division` parameter to control this behavior.\n",
      "  _warn_prf(average, modifier, msg_start, len(result))\n"
     ]
    }
   ],
   "source": [
    "overall_acc = overall_accuracy(y_test, y_pred)\n",
    "m_prec = mean_prec(y_test, y_pred)\n",
    "m_recall = mean_recall(y_test, y_pred)\n",
    "\n",
    "print(f\"Over all acc : {overall_acc*100:.2f}%\\nmean prec : {m_prec*100:.2f}%\\nmean recall : {m_recall*100:.2f}%\")"
   ]
  },
  {
   "cell_type": "raw",
   "metadata": {},
   "source": [
    "Over all acc : 89.46%\n",
    "mean prec : 88.51%\n",
    "mean recall : 85.63%"
   ]
  },
  {
   "cell_type": "raw",
   "metadata": {},
   "source": [
    "roi_1   400  \n",
    "\n",
    "Over all acc : 89.46%\n",
    "mean prec : 88.51%\n",
    "mean recall : 85.63%\n",
    "\n",
    "300\n",
    "Over all acc : 91.32%\n",
    "mean prec : 89.97%\n",
    "mean recall : 87.31%"
   ]
  },
  {
   "cell_type": "raw",
   "metadata": {},
   "source": [
    "roi_2  \n",
    "\n",
    "400   \n",
    "\n",
    "Over all acc : 86.31%\n",
    "mean prec : 85.21%\n",
    "mean recall : 81.84%\n",
    "\n",
    "300\n",
    "\n",
    "Over all acc : 88.28%\n",
    "mean prec : 87.23%\n",
    "mean recall : 83.73%"
   ]
  },
  {
   "cell_type": "code",
   "execution_count": null,
   "metadata": {},
   "outputs": [],
   "source": []
  }
 ],
 "metadata": {
  "kernelspec": {
   "display_name": "Python 3",
   "language": "python",
   "name": "python3"
  },
  "language_info": {
   "codemirror_mode": {
    "name": "ipython",
    "version": 3
   },
   "file_extension": ".py",
   "mimetype": "text/x-python",
   "name": "python",
   "nbconvert_exporter": "python",
   "pygments_lexer": "ipython3",
   "version": "3.6.9"
  },
  "varInspector": {
   "cols": {
    "lenName": 16,
    "lenType": 16,
    "lenVar": 40
   },
   "kernels_config": {
    "python": {
     "delete_cmd_postfix": "",
     "delete_cmd_prefix": "del ",
     "library": "var_list.py",
     "varRefreshCmd": "print(var_dic_list())"
    },
    "r": {
     "delete_cmd_postfix": ") ",
     "delete_cmd_prefix": "rm(",
     "library": "var_list.r",
     "varRefreshCmd": "cat(var_dic_list()) "
    }
   },
   "position": {
    "height": "144px",
    "left": "1069px",
    "right": "20px",
    "top": "120px",
    "width": "350px"
   },
   "types_to_exclude": [
    "module",
    "function",
    "builtin_function_or_method",
    "instance",
    "_Feature"
   ],
   "window_display": false
  }
 },
 "nbformat": 4,
 "nbformat_minor": 4
}
