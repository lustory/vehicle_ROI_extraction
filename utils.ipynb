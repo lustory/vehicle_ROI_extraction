{
 "cells": [
  {
   "cell_type": "code",
   "execution_count": 1,
   "metadata": {},
   "outputs": [],
   "source": [
    "import os\n",
    "import cv2\n",
    "import random\n",
    "# import pathlib\n",
    "import pathlib\n",
    "import numpy as np\n",
    "import multiprocessing\n",
    "from sklearn import svm\n",
    "\n",
    "\n",
    "from matplotlib import pyplot as plt\n",
    "from skimage.morphology import skeletonize\n",
    "from skimage.feature import hog\n",
    "from tqdm.notebook import tqdm\n",
    "from sklearn.model_selection import GridSearchCV\n",
    "from sklearn.metrics import precision_score, recall_score, accuracy_score\n",
    "\n"
   ]
  },
  {
   "cell_type": "code",
   "execution_count": 2,
   "metadata": {},
   "outputs": [],
   "source": [
    "lp_file_path = \"./files/LP_COORDS.npz\""
   ]
  },
  {
   "cell_type": "code",
   "execution_count": null,
   "metadata": {},
   "outputs": [],
   "source": [
    "cpu_count = multiprocessing.cpu_count()"
   ]
  },
  {
   "cell_type": "code",
   "execution_count": 3,
   "metadata": {},
   "outputs": [],
   "source": [
    "def get_lp_coord(image_name):\n",
    "    lp_coords = np.load(lp_file_path, allow_pickle = True)\n",
    "    return lp_coords['coords'].tolist()[image_name]"
   ]
  },
  {
   "cell_type": "code",
   "execution_count": 4,
   "metadata": {},
   "outputs": [],
   "source": [
    "def get_all_images(input_dir, ext = \"jpg\", shuffle = True):\n",
    "    image_paths = [i for i in pathlib.Path(input_dir).rglob(\".\".join([\"*\", ext]))]\n",
    "    if shuffle:\n",
    "        random.shuffle(image_paths)\n",
    "    return image_paths"
   ]
  },
  {
   "cell_type": "code",
   "execution_count": 5,
   "metadata": {},
   "outputs": [],
   "source": [
    "def mean_smooth(input_array, win_size = 10):\n",
    "    step = win_size //2 \n",
    "    len_array = len(input_array)\n",
    "    return_array = []\n",
    "    for index, value in enumerate(input_array):\n",
    "        i_range = [ max(0, index - step), min(len_array, index + step)]\n",
    "        return_array.append(np.mean(input_array[i_range[0] : i_range[1] + 1]))\n",
    "    return np.asarray(return_array)"
   ]
  },
  {
   "cell_type": "code",
   "execution_count": null,
   "metadata": {},
   "outputs": [],
   "source": []
  },
  {
   "cell_type": "code",
   "execution_count": 40,
   "metadata": {},
   "outputs": [],
   "source": [
    "def list_split(input_list, ratio = [0.5, 0.5], shuffle = False):\n",
    "    assert sum(ratio) == 1, print(\"sum of ratio should be 1\")\n",
    "    input_list = sorted(input_list)\n",
    "    len_list = len(input_list)\n",
    "    \n",
    "    split_len = []\n",
    "    for i in ratio[:-1]:\n",
    "        split_len.append(round(len_list*i))\n",
    "    \n",
    "    return_list = []\n",
    "    temp = 0\n",
    "    for i in split_len:\n",
    "        start, end = temp, temp + i\n",
    "        temp += i\n",
    "        return_list.append(input_list[start: end])\n",
    "    return_list.append(input_list[temp:])\n",
    "        \n",
    "    return return_list\n",
    "    \n",
    "    "
   ]
  },
  {
   "cell_type": "markdown",
   "metadata": {},
   "source": []
  },
  {
   "cell_type": "code",
   "execution_count": 6,
   "metadata": {},
   "outputs": [],
   "source": [
    "def imread(file_name, is_gray = False, resize = False, width = None, height = None):\n",
    "    if is_gray:\n",
    "        image = cv2.imread(str(file_name), flags = cv2.IMREAD_GRAYSCALE)\n",
    "    else:\n",
    "        \n",
    "        image = cv2.cvtColor(cv2.imread(str(file_name)), cv2.COLOR_BGR2RGB)\n",
    "    \n",
    "    if resize:\n",
    "        h, w = image.shape[:2]\n",
    "        if width == None and height != None:\n",
    "            width = int(height/h*w)\n",
    "        elif width != None and height == None:\n",
    "            height = int(width/w*width)\n",
    "\n",
    "        image = cv2.resize(image, (width, height))\n",
    "        \n",
    "    return image\n",
    "\n",
    "\n",
    "def resize(input_image, is_gray = True, width = None, height = None):\n",
    "    if is_gray:\n",
    "        image = cv2.cvtColor(input_image, cv2.COLOR_BGR2GRAY)\n",
    "\n",
    "    h, w = image.shape[:2]\n",
    "    if width == None and height != None:\n",
    "        width = int(height/h*w)\n",
    "    elif width != None and height == None:\n",
    "        height = int(width/w*width)\n",
    "\n",
    "    image = cv2.resize(image, (width, height))\n",
    "    \n",
    "    return image\n"
   ]
  },
  {
   "cell_type": "code",
   "execution_count": 7,
   "metadata": {},
   "outputs": [],
   "source": [
    "winSize = (320, 160)\n",
    "blockSize = (40, 40)\n",
    "blockStride = (20, 20)\n",
    "cellSize = (20,20)\n",
    "nbins = 9\n",
    "derivAperture = 1\n",
    "winSigma = -1.\n",
    "histogramNormType = 1\n",
    "L2HysThreshold = 0.2\n",
    "gammaCorrection = 1\n",
    "nlevels = 64\n",
    "signedGradients = True\n",
    "\n",
    "cvhog = cv2.HOGDescriptor(winSize,blockSize,blockStride,cellSize,nbins,\n",
    "                        derivAperture,winSigma,histogramNormType,L2HysThreshold,\n",
    "                        gammaCorrection,nlevels,signedGradients)"
   ]
  },
  {
   "cell_type": "code",
   "execution_count": 8,
   "metadata": {},
   "outputs": [],
   "source": [
    "def roi_extraction_1(input_image):\n",
    "    image_name = input_image.name\n",
    "    image = imread(str(input_image))\n",
    "    h, w = image.shape[:2]\n",
    "    x1, y1, x2, y2 = get_lp_coord(image_name)\n",
    "    lp_w, lp_h = x2 - x1, y2 - y1\n",
    "    \n",
    "    roi_x1, roi_x2 = max(0, int(x1 - 0.8*lp_w)), min(int(x2 + 0.8*lp_w), w)\n",
    "    roi_y1, roi_y2 = max(0, int(y1 - 0.32*(roi_x2 - roi_x1))), y1\n",
    "    \n",
    "    return [x1, y1, x2, y2], [roi_x1, roi_y1, roi_x2, roi_y2], image[roi_y1:roi_y2, roi_x1:roi_x2]\n",
    "    "
   ]
  },
  {
   "cell_type": "code",
   "execution_count": null,
   "metadata": {},
   "outputs": [],
   "source": [
    "def roi_extraction_2(input_image):\n",
    "    image_name = input_image.name\n",
    "    image = imread(str(input_image))\n",
    "    h, w = image.shape[:2]\n",
    "    x1, y1, x2, y2 = get_lp_coord(image_name)\n",
    "    lp_w, lp_h = x2 - x1, y2 - y1\n",
    "    \n",
    "    roi_x1, roi_x2 = max(0, int(x1 - 0.84*lp_w)), min(int(x2 + 0.84*lp_w), w)\n",
    "    roi_y1, roi_y2 = max(0, int(y1 - 3.67*lp_h)), min(int(y2 + 1.53*lp_h), h)\n",
    "    \n",
    "    return [x1, y1, x2, y2], [roi_x1, roi_y1, roi_x2, roi_y2], image[roi_y1:roi_y2, roi_x1:roi_x2]\n",
    "    "
   ]
  },
  {
   "cell_type": "code",
   "execution_count": null,
   "metadata": {},
   "outputs": [],
   "source": [
    "def overall_accuracy(y_true, y_pred):\n",
    "    return accuracy_score(y_true, y_pred)\n",
    "\n",
    "def mean_accuracy(y_true, y_pred):\n",
    "    if not isinstance(y_true, np.ndarray):\n",
    "        y_true = np.asarray(y_true)\n",
    "    if not isinstance(y_pred, np.ndarray):\n",
    "        y_pred = np.asarray(y_pred)\n",
    "\n",
    "    unique_label = np.unique(y_true)\n",
    "    per_class_acc = []\n",
    "    for label in unique_label:\n",
    "        index = np.where(y_true == label)\n",
    "        per_class_acc.append(np.mean(y_true[index] == y_pred[index]))\n",
    "    return np.mean(per_class_acc, dtype=np.float32)\n",
    "\n",
    "\n",
    "def mean_prec(y_true, y_pred):\n",
    "    return precision_score(y_true, y_pred, average = \"macro\")\n",
    "\n",
    "def overall_prec(y_true, y_pred):\n",
    "    if not isinstance(y_true, np.ndarray):\n",
    "        y_true = np.asarray(y_true)\n",
    "    if not isinstance(y_pred, np.ndarray):\n",
    "        y_pred = np.asarray(y_pred)\n",
    "\n",
    "    return np.mean(y_true == y_pred, dtype=np.float32)\n",
    "\n",
    "\n",
    "def mean_recall(y_true, y_pred):\n",
    "    return recall_score(y_true, y_pred, average = \"macro\")"
   ]
  }
 ],
 "metadata": {
  "kernelspec": {
   "display_name": "Python 3",
   "language": "python",
   "name": "python3"
  },
  "language_info": {
   "codemirror_mode": {
    "name": "ipython",
    "version": 3
   },
   "file_extension": ".py",
   "mimetype": "text/x-python",
   "name": "python",
   "nbconvert_exporter": "python",
   "pygments_lexer": "ipython3",
   "version": "3.6.9"
  },
  "varInspector": {
   "cols": {
    "lenName": 16,
    "lenType": 16,
    "lenVar": 40
   },
   "kernels_config": {
    "python": {
     "delete_cmd_postfix": "",
     "delete_cmd_prefix": "del ",
     "library": "var_list.py",
     "varRefreshCmd": "print(var_dic_list())"
    },
    "r": {
     "delete_cmd_postfix": ") ",
     "delete_cmd_prefix": "rm(",
     "library": "var_list.r",
     "varRefreshCmd": "cat(var_dic_list()) "
    }
   },
   "types_to_exclude": [
    "module",
    "function",
    "builtin_function_or_method",
    "instance",
    "_Feature"
   ],
   "window_display": false
  }
 },
 "nbformat": 4,
 "nbformat_minor": 4
}
