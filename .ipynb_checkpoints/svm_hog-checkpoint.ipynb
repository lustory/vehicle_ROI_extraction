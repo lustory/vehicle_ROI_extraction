{
 "cells": [
  {
   "cell_type": "code",
   "execution_count": 1,
   "metadata": {},
   "outputs": [],
   "source": [
    "%run utils.ipynb\n",
    "random.seed(1)"
   ]
  },
  {
   "cell_type": "code",
   "execution_count": 2,
   "metadata": {},
   "outputs": [],
   "source": [
    "root_dir = \"./files/4_split_400/\""
   ]
  },
  {
   "cell_type": "code",
   "execution_count": 3,
   "metadata": {},
   "outputs": [
    {
     "name": "stdout",
     "output_type": "stream",
     "text": [
      "400 classes\n"
     ]
    }
   ],
   "source": [
    "class_dirs = [os.path.join(root_dir, i) for i in os.listdir(root_dir)]\n",
    "random.shuffle(class_dirs)\n",
    "print(f\"{len(class_dirs)} classes\")"
   ]
  },
  {
   "cell_type": "code",
   "execution_count": 4,
   "metadata": {},
   "outputs": [],
   "source": [
    "# class_dirs = class_dirs[:300]"
   ]
  },
  {
   "cell_type": "code",
   "execution_count": 5,
   "metadata": {},
   "outputs": [],
   "source": [
    "x_train, y_train = [], []\n",
    "x_test, y_test = [], []"
   ]
  },
  {
   "cell_type": "code",
   "execution_count": 6,
   "metadata": {},
   "outputs": [
    {
     "data": {
      "application/vnd.jupyter.widget-view+json": {
       "model_id": "e857708b6a794f0489e8feb8cbbbc1c8",
       "version_major": 2,
       "version_minor": 0
      },
      "text/plain": [
       "HBox(children=(FloatProgress(value=1.0, bar_style='info', max=1.0), HTML(value='')))"
      ]
     },
     "metadata": {},
     "output_type": "display_data"
    },
    {
     "name": "stdout",
     "output_type": "stream",
     "text": [
      "\n",
      "CPU times: user 36min 36s, sys: 6.54 s, total: 36min 43s\n",
      "Wall time: 7min 8s\n"
     ]
    }
   ],
   "source": [
    "%%time\n",
    "for class_label, class_dir in tqdm(enumerate(class_dirs)):\n",
    "    train_list, test_list = list_split(get_all_images(class_dir, shuffle = False),\n",
    "                                       ratio = [0.4, 0.6], shuffle = False)\n",
    "#     try:\n",
    "    for image_path in train_list:    \n",
    "        _, _, roi = roi_extraction_with_hood(image_path)\n",
    "        \n",
    "#         _, _, roi = roi_extraction_1(image_path)\n",
    "#         _, _, roi = roi_extraction_2(image_path)\n",
    "        roi = resize(roi, is_gray = True, width = 256, height = 128)\n",
    "#         feature = cvhog.compute(roi)\n",
    "        feature = HOG_feature(roi)\n",
    "        x_train.append(feature)\n",
    "        y_train.append(class_label)\n",
    "\n",
    "    for image_path in test_list:    \n",
    "        _, _, roi = roi_extraction_with_hood(image_path)\n",
    "#         _, _, roi = roi_extraction_1(image_path)\n",
    "#         _, _, roi = roi_extraction_2(image_path)\n",
    "        roi = resize(roi, is_gray = True, width = 256, height = 128)\n",
    "#         feature = cvhog.compute(roi)\n",
    "        feature = HOG_feature(roi)\n",
    "        x_test.append(feature)\n",
    "        y_test.append(class_label)\n",
    "#     except:\n",
    "#         print(image_path)"
   ]
  },
  {
   "cell_type": "code",
   "execution_count": 7,
   "metadata": {},
   "outputs": [
    {
     "name": "stdout",
     "output_type": "stream",
     "text": [
      "feature dim : 756\n"
     ]
    }
   ],
   "source": [
    "f_dim = x_test[0].shape[0]\n",
    "print(f\"feature dim : {f_dim}\")"
   ]
  },
  {
   "cell_type": "code",
   "execution_count": 8,
   "metadata": {},
   "outputs": [],
   "source": [
    "x_train = np.asarray(x_train).reshape(-1, f_dim)\n",
    "x_test = np.asarray(x_test).reshape(-1, f_dim)"
   ]
  },
  {
   "cell_type": "code",
   "execution_count": 9,
   "metadata": {},
   "outputs": [
    {
     "data": {
      "text/plain": [
       "(4978, 756)"
      ]
     },
     "execution_count": 9,
     "metadata": {},
     "output_type": "execute_result"
    }
   ],
   "source": [
    "x_train.shape\n",
    "\n",
    "# (4978, 756)"
   ]
  },
  {
   "cell_type": "code",
   "execution_count": null,
   "metadata": {},
   "outputs": [],
   "source": [
    "%%time\n",
    "# Grid Search\n",
    "# Parameter Grid\n",
    "param_grid = {'C': [0.1, 1, 10, 100], 'gamma': [1, 0.1, 0.01, 0.001, 0.00001, 10]}\n",
    " \n",
    "# Make grid search classifier\n",
    "clf_grid = GridSearchCV(svm.SVC(), param_grid, verbose=1, cv = 3, n_jobs = -1) #, pre_dispatch = cpu_count//2\n",
    " \n",
    "# Train the classifier\n",
    "clf_grid.fit(x_train, y_train)\n",
    "\n",
    "# clf = grid.best_estimator_()\n",
    "print(\"Best Parameters:\\n\", clf_grid.best_params_)\n",
    "print(\"Best Estimators:\\n\", clf_grid.best_estimator_)"
   ]
  },
  {
   "cell_type": "code",
   "execution_count": null,
   "metadata": {},
   "outputs": [],
   "source": [
    "# Make predictions on unseen test data\n",
    "y_pred = clf_grid.predict(x_test)\n",
    "# print(\"Accuracy: {}%\".format(clf_grid.score(x_test, y_test) * 100 ))"
   ]
  },
  {
   "cell_type": "code",
   "execution_count": null,
   "metadata": {},
   "outputs": [],
   "source": [
    "overall_acc = overall_accuracy(y_test, y_pred)\n",
    "m_prec = mean_prec(y_test, y_pred)\n",
    "m_recall = mean_recall(y_test, y_pred)\n",
    "\n",
    "print(f\"Over all acc : {overall_acc*100:.2f}%\\nmean prec : {m_prec*100:.2f}%\\nmean recall : {m_recall*100:.2f}%\")"
   ]
  },
  {
   "cell_type": "markdown",
   "metadata": {},
   "source": [
    "width = 256, height = 128\n",
    "winSize = (256, 128) \n",
    "blockSize = (64, 64)\n",
    "blockStride = (32, 32)\n",
    "cellSize = (32,32)\n",
    "nbins = 9\n",
    "\n",
    "50\n",
    "\n",
    "|metrics | roi 1 | roi 2 | roi ours |\n",
    "| :-- :| :--:  | :--: | :--:|\n",
    "| over all ac |92.83%|93.58%| 89.09%|\n",
    "| mean prec | 92.85%| 92.84%| 89.30%|\n",
    "|mean recall |90.77% |91.55% |85.47%|\n",
    "\n",
    "\n",
    "\n",
    "100\n",
    "\n",
    "|metrics | roi 1 | roi 2 | roi ours |\n",
    "| :-- :| :--:  | :--: | :--:|\n",
    "| over all ac |93.01%|93.58%| 89.09%|\n",
    "| mean prec | 92.37%| 92.84%| 89.30%|\n",
    "|mean recall |91.09% |91.55% |85.47%|\n",
    "\n",
    "\n",
    "\n",
    "200\n",
    "\n",
    "|metrics | roi 1 | roi 2 | roi ours |\n",
    "| :-- :| :--:  | :--: | :--:|\n",
    "| over all ac |90.69%|87.05%| 82.88%|\n",
    "| mean prec | 90.13%| 86.60%| 82.28%|\n",
    "|mean recall |87.65% |83.18% |77.95%|\n",
    "\n",
    "\n",
    "\n",
    "300\n",
    "\n",
    "|metrics | roi 1 | roi 2 | roi ours |\n",
    "| :-- :| :--:  | :--: | :--:|\n",
    "| over all ac |90.35%|87.05%| 82.69%|\n",
    "| mean prec | 89.41%| 86.60%| 82.03%|\n",
    "|mean recall |87.18%|83.18% | 77.46%|\n",
    "\n",
    "\n",
    "\n",
    "400\n",
    "\n",
    "|metrics | roi 1 | roi 2 | roi ours |\n",
    "| :-- :| :--:  | :--: | :--:|\n",
    "| over all ac | | | 81.14%|\n",
    "| mean prec |  |  | 80.53%|\n",
    "|mean recall | | | 75.57%|\n",
    "\n"
   ]
  },
  {
   "cell_type": "markdown",
   "metadata": {},
   "source": [
    "\n",
    "\n",
    "\n"
   ]
  },
  {
   "cell_type": "markdown",
   "metadata": {},
   "source": [
    "\n",
    "\n"
   ]
  }
 ],
 "metadata": {
  "kernelspec": {
   "display_name": "Python 3",
   "language": "python",
   "name": "python3"
  },
  "language_info": {
   "codemirror_mode": {
    "name": "ipython",
    "version": 3
   },
   "file_extension": ".py",
   "mimetype": "text/x-python",
   "name": "python",
   "nbconvert_exporter": "python",
   "pygments_lexer": "ipython3",
   "version": "3.7.7"
  },
  "varInspector": {
   "cols": {
    "lenName": 16,
    "lenType": 16,
    "lenVar": 40
   },
   "kernels_config": {
    "python": {
     "delete_cmd_postfix": "",
     "delete_cmd_prefix": "del ",
     "library": "var_list.py",
     "varRefreshCmd": "print(var_dic_list())"
    },
    "r": {
     "delete_cmd_postfix": ") ",
     "delete_cmd_prefix": "rm(",
     "library": "var_list.r",
     "varRefreshCmd": "cat(var_dic_list()) "
    }
   },
   "position": {
    "height": "144px",
    "left": "1069px",
    "right": "20px",
    "top": "120px",
    "width": "350px"
   },
   "types_to_exclude": [
    "module",
    "function",
    "builtin_function_or_method",
    "instance",
    "_Feature"
   ],
   "window_display": false
  }
 },
 "nbformat": 4,
 "nbformat_minor": 4
}
