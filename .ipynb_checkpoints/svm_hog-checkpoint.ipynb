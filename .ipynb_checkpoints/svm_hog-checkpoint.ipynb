{
 "cells": [
  {
   "cell_type": "code",
   "execution_count": 1,
   "metadata": {},
   "outputs": [],
   "source": [
    "%run utils.ipynb\n",
    "random.seed(0)"
   ]
  },
  {
   "cell_type": "code",
   "execution_count": 2,
   "metadata": {},
   "outputs": [],
   "source": [
    "root_dir = \"./files/4_split_400/\""
   ]
  },
  {
   "cell_type": "code",
   "execution_count": 3,
   "metadata": {},
   "outputs": [
    {
     "name": "stdout",
     "output_type": "stream",
     "text": [
      "400 classes\n"
     ]
    }
   ],
   "source": [
    "class_dirs = [os.path.join(root_dir, i) for i in os.listdir(root_dir)]\n",
    "random.shuffle(class_dirs)\n",
    "print(f\"{len(class_dirs)} classes\")"
   ]
  },
  {
   "cell_type": "code",
   "execution_count": 4,
   "metadata": {},
   "outputs": [],
   "source": [
    "class_dirs = class_dirs[:300]"
   ]
  },
  {
   "cell_type": "code",
   "execution_count": 5,
   "metadata": {},
   "outputs": [],
   "source": [
    "x_train, y_train = [], []\n",
    "x_test, y_test = [], []"
   ]
  },
  {
   "cell_type": "code",
   "execution_count": 6,
   "metadata": {},
   "outputs": [
    {
     "data": {
      "application/vnd.jupyter.widget-view+json": {
       "model_id": "32c8e567be24460a9a1fafc8176ba231",
       "version_major": 2,
       "version_minor": 0
      },
      "text/plain": [
       "HBox(children=(FloatProgress(value=1.0, bar_style='info', max=1.0), HTML(value='')))"
      ]
     },
     "metadata": {},
     "output_type": "display_data"
    },
    {
     "name": "stdout",
     "output_type": "stream",
     "text": [
      "./files/4_split_400/雪铁龙--东风雪铁龙--雪铁龙C4L--2013--2014\n",
      "./files/4_split_400/本田--广汽本田--歌诗图--2014\n",
      "./files/4_split_400/迷你--CLUBMAN--2011_v2--2012_v2--ROADSTER--2012_v2\n",
      "./files/4_split_400/马自达--长安马自达--马自达2劲翔--两厢--2008--三厢--2008--2010\n",
      "./files/4_split_400/别克--上海通用别克--君越--2010_v2--2011_v2--2012_v2\n",
      "./files/4_split_400/铃木v2--昌河铃木--北斗星X5--2012_v2--2013\n",
      "./files/4_split_400/雪佛兰--上汽通用雪佛兰--赛欧--两厢--2010--2011--2013--三厢--2010--2013\n",
      "./files/4_split_400/大众--上海大众--朗行--2013_v2--朗逸--2014_v2\n",
      "./files/4_split_400/起亚--东风悦达起亚--福瑞迪--三厢--2011--2012--2014\n",
      "./files/4_split_400/雪佛兰--进口雪佛兰--斯帕可SPARK--2011\n",
      "./files/4_split_400/日产--东风日产--阳光--2014\n",
      "./files/4_split_400/东风--东风--风神A60--2012_v2--2014\n",
      "./files/4_split_400/菲亚特--广汽菲亚特--菲翔--2012--2013--2014_v1\n",
      "./files/4_split_400/雪佛兰--宝骏--上海通用五菱宝骏--乐驰--2009--2010--2012_v1\n",
      "./files/4_split_400/奇瑞--奇瑞汽车--风云2--两厢--2013--2014--三厢--2013\n",
      "./files/4_split_400/北汽--绅宝--北京汽车--绅宝D50--2014_v2--2015\n",
      "./files/4_split_400/奇瑞--奇瑞汽车--奇瑞E5--2011--2012--2014\n",
      "./files/4_split_400/奇瑞--奇瑞汽车--奇瑞A3--两厢--2009--2010--2012--三厢--2008--2010--2012\n",
      "./files/4_split_400/大众--上海大众--CrossPolo--2012--2014--POLO--2011--2013\n",
      "./files/4_split_400/丰田--一汽丰田--皇冠--2009--2010\n",
      "./files/4_split_400/长安v1--长安汽车--长安CX20--2011_v2\n",
      "./files/4_split_400/长安v1--长安汽车--悦翔--2009_v2--2010_v2\n",
      "./files/4_split_400/长安v2--长安汽车--长安CX30--两厢--2010_v1--三厢--2011_v1\n",
      "./files/4_split_400/铃木v1--长安铃木--天语SX4--两厢--2013\n",
      "./files/4_split_400/广汽传祺--广汽传祺--传祺GS5速博--2015\n",
      "./files/4_split_400/菲亚特--广汽菲亚特--致悦--2014_v2--2015\n",
      "./files/4_split_400/标致--东风标致--标致408--2013\n",
      "./files/4_split_400/长安v1--长安汽车--悦翔V7--2015\n",
      "./files/4_split_400/奥迪--进口奥迪--奥迪A3(进口)--2014--2015\n",
      "./files/4_split_400/大众--上海大众--CrossPolo--2007--POLO劲取--2009\n",
      "./files/4_split_400/本田--东风本田--思域--2012--2013\n",
      "./files/4_split_400/吉利v2--吉利汽车--熊猫--2009--2010--2011--2013\n",
      "./files/4_split_400/铃木v1--昌河铃木--北斗星X5--2012_v1\n",
      "./files/4_split_400/奇瑞--奇瑞汽车--旗云1--2010\n",
      "./files/4_split_400/纳智捷--东风裕隆--全新纳5--2015\n",
      "./files/4_split_400/启辰--东风日产--启辰R30--2014\n",
      "./files/4_split_400/江淮--江淮汽车--宾悦--2008\n",
      "./files/4_split_400/广汽传祺--广汽传祺--传祺GS5--2012--2013--2014\n",
      "./files/4_split_400/福特--长安福特--福睿斯--2015\n",
      "./files/4_split_400/一汽--天津一汽--威志V5--2012--2013--2014--威志--三厢--2011_v2\n",
      "./files/4_split_400/奔驰--北汽奔驰--C级--2010_v2--2011_v1--2013_v1--进口奔驰--C级--2010--2011\n",
      "./files/4_split_400/铃木v1--长安铃木--天语SX4--两厢--2011_v2\n",
      "./files/4_split_400/标致--东风标志--标志508--2015\n",
      "./files/4_split_400/福特--长安福特--福克斯--三厢--2013\n",
      "./files/4_split_400/比亚迪--比亚迪--比亚迪F0--2008--2011--2012--2013\n",
      "./files/4_split_400/吉利v4--吉利--金刚--2010--2013\n",
      "./files/4_split_400/奔驰--进口奔驰--E级双门轿跑车(进口)--2010--2012\n",
      "./files/4_split_400/雪铁龙--东风雪铁龙--雪铁龙C3-XR--2015\n",
      "./files/4_split_400/长安v2--长安汽车--奔奔--2008\n",
      "./files/4_split_400/大众--一汽大众--捷达--2013\n",
      "./files/4_split_400/雪佛兰--上汽通用雪佛兰--科鲁兹掀背--2013\n",
      "./files/4_split_400/福特--长安福特--新蒙迪欧致胜--2013\n",
      "./files/4_split_400/长安v1--长安汽车--悦翔V3--2012\n",
      "./files/4_split_400/北汽--北京汽车--北京汽车E系列--两厢--2012--两三厢--2013\n",
      "./files/4_split_400/长安v2--长安汽车--奔奔迷你--2010--2011_v1\n",
      "./files/4_split_400/MG--锐行--2015\n",
      "./files/4_split_400/标致--东风标志--标志307--两厢--2008--2010--2012_v1--2013_v1--三厢--2008--2010\n",
      "./files/4_split_400/日产--东风日产--天籁--2013--2014\n",
      "./files/4_split_400/现代--北京现代--索纳塔八--2011--2013--2014\n",
      "./files/4_split_400/奇瑞--奇瑞汽车--奇瑞QQ--2013\n",
      "./files/4_split_400/宝马--进口宝马华晨宝马--宝马5--2011--2012--2013--2014\n",
      "./files/4_split_400/中华--华晨中华--中华骏捷Cross--2009--2010\n",
      "./files/4_split_400/宝骏--上海通用五菱宝骏--610--2014--630--2012--2013--2014\n",
      "./files/4_split_400/中华--华晨中华--中华骏捷--2011\n",
      "./files/4_split_400/吉利v3--吉利汽车--远景--2009--2011\n",
      "./files/4_split_400/长城--长城汽车--凌傲--2010\n",
      "./files/4_split_400/长安v1--长安汽车--悦翔--2012_v1\n",
      "./files/4_split_400/雪佛兰--通用雪佛兰--景程--2013\n",
      "./files/4_split_400/奔驰--进口奔驰--奔驰CLA级--2014--2015_v1\n",
      "./files/4_split_400/smart--smartfortwo(进口)--2009--2011--2012_v1\n",
      "./files/4_split_400/长城--长城汽车--炫丽--2008--2009_v1\n",
      "./files/4_split_400/吉利v1--吉利汽车--新帝豪--两厢--2014--三厢--2014--2015\n",
      "./files/4_split_400/铃木v1--长安铃木--奥拓--2009--2010--2011--2012\n",
      "./files/4_split_400/昌河--昌河汽车--爱迪尔Ⅱ--2007\n",
      "./files/4_split_400/大众--一汽大众--宝来--2013\n",
      "./files/4_split_400/起亚--东风悦达起亚--赛拉图--2010_v2--2012\n",
      "./files/4_split_400/中华--华晨中华--中华骏捷FRV--2010\n",
      "./files/4_split_400/长安v1--长安汽车--悦翔V5--2012\n",
      "./files/4_split_400/荣威--上汽荣威--荣威350--2010\n",
      "./files/4_split_400/宝马--华晨宝马--宝马3系--2009--2010--2011--2012\n",
      "./files/4_split_400/铃木v1--长安铃木--启悦--2015\n",
      "./files/4_split_400/东风--东风--风神S30--2009--2011--2012--风神H30--2010--2011\n",
      "./files/4_split_400/海马--海马郑州--海马M3--2013--2014--2015\n",
      "./files/4_split_400/别克--上海通用别克--英朗--2010--2011--2012--2013\n",
      "./files/4_split_400/丰田--一汽丰田--威驰--2008\n",
      "./files/4_split_400/吉利v2--吉利汽车--远景--2012--2013\n",
      "./files/4_split_400/铃木v1--昌河铃木--北斗星--2011_v2--2012_v2--2013_v1--2015\n",
      "./files/4_split_400/菲亚特--广汽菲亚特--致悦--2014_v1\n",
      "./files/4_split_400/比亚迪--比亚迪--比亚迪F3--2011--2012--2013\n",
      "./files/4_split_400/吉利v2--吉利汽车--全球鹰GX2--2011--2012\n",
      "./files/4_split_400/吉利v2--吉利--吉利GC7--2012--2013\n",
      "./files/4_split_400/丰田--一汽丰田--皇冠--2012\n",
      "./files/4_split_400/比亚迪--比亚迪--比亚迪E6--2011--2013--2014\n",
      "./files/4_split_400/大众--一汽大众--迈腾--2011--2012--2013_v1\n",
      "./files/4_split_400/双环--双环汽车--小贵族--2007--2009\n",
      "./files/4_split_400/吉利v1--吉利汽车--经典帝豪--2009_v2--2010--2012--2013_v1--两厢--2012_v2\n",
      "./files/4_split_400/铃木v1--长安铃木--天语SX4尚悦--2011--2012\n",
      "./files/4_split_400/一汽--天津一汽--夏利N7--2013--2014\n",
      "./files/4_split_400/雪佛兰--通用雪佛兰--爱唯欧--两厢--2014--三厢--2014\n",
      "./files/4_split_400/雪佛兰--通用雪佛兰--乐风--2006_v2--2008--2010\n",
      "./files/4_split_400/奔驰--北汽奔驰--E级--2014_v2--2015_v2\n",
      "./files/4_split_400/华泰--华泰--路盛E70--2013--2014\n",
      "./files/4_split_400/奥迪--进口奥迪--奥迪A1--2012--2013--2014\n",
      "./files/4_split_400/广汽传祺--广汽传祺--传祺GA3S--2014\n",
      "./files/4_split_400/马自达--长安马自达--马自达3昂克赛拉--两三厢--2014\n",
      "./files/4_split_400/中华--华晨中华--中华H230--2012\n",
      "./files/4_split_400/力帆--重庆力帆--力帆530--2014\n",
      "./files/4_split_400/比亚迪--比亚迪--思锐--2013\n",
      "./files/4_split_400/奇瑞--奇瑞汽车--旗云5--2012\n",
      "./files/4_split_400/大众--进口大众一汽大众--大众CC--2010--2011--2012--2015_v2--2009(进口)--2012(进口）\n",
      "./files/4_split_400/吉利v4--吉利汽车--吉利SC3--2012\n",
      "./files/4_split_400/大众--进口大众--大众up!--2015\n",
      "./files/4_split_400/雷诺--雷诺--风朗--2015\n",
      "./files/4_split_400/别克--上海通用别克--君越GS--2014\n",
      "./files/4_split_400/英菲尼迪--东风英菲尼迪--英菲尼迪Q50L--2015\n",
      "./files/4_split_400/MG--MG7--2008--2009--2010\n",
      "./files/4_split_400/长安v2--长安汽车--悦翔--2009_v1--2010_v1\n",
      "./files/4_split_400/长安v2--长安汽车--长安CX20--2011_v1\n",
      "./files/4_split_400/东南--东南汽车--V5菱致--2012--2013--2014--2015_v1\n",
      "./files/4_split_400/本田--东风本田--思铂睿--2013\n",
      "./files/4_split_400/标致--东风标志--标志508--2011--2012--2013--2014\n",
      "./files/4_split_400/奇瑞--奇瑞汽车--旗云3--2010\n",
      "./files/4_split_400/奔驰--进口奔驰--奔驰B级--2009\n",
      "./files/4_split_400/东南--东南汽车--V3菱悦--2010_v2--2011_v2--2012_v2\n",
      "./files/4_split_400/铃木v2--昌河铃木--派喜--2011_v2--2012_v2--2013\n",
      "./files/4_split_400/长城--长城汽车--长城M2--2010--2012_v1\n",
      "./files/4_split_400/荣威--上汽荣威--荣威550--2008--2010--2012\n",
      "./files/4_split_400/福特--长安福特--福克斯--两厢--2013\n",
      "./files/4_split_400/本田--东风本田--杰德--2013--2014\n",
      "./files/4_split_400/丰田--一汽丰田--威驰--2014\n",
      "./files/4_split_400/丰田--一汽丰田--威驰--2010--2011--2013\n",
      "./files/4_split_400/起亚--东风悦达起亚--起亚K5--2011--2012--2014--2015--K2--两厢--2012\n",
      "./files/4_split_400/雷克萨斯--雷克萨斯--雷克萨斯CT--2014_v2--2015\n",
      "./files/4_split_400/日产--东风日产--玛驰--2010--2015\n",
      "./files/4_split_400/奔驰--进口奔驰--E级双门轿跑车(进口)--2014\n",
      "./files/4_split_400/雷诺--雷诺--梅甘娜--2011--梅甘娜R.S.--2011\n",
      "./files/4_split_400/马自达--一汽马自达--阿特兹--2014\n",
      "./files/4_split_400/丰田--一汽丰田--锐志--2010--2012\n",
      "./files/4_split_400/启辰--东风日产--晨风--2014\n",
      "./files/4_split_400/中华--华晨中华--中华骏捷FRV--2008\n",
      "./files/4_split_400/奔驰--进口奔驰--奔驰B级--2012_v1\n",
      "./files/4_split_400/凯迪拉克--凯迪拉克--XTS--2013--2014--2015\n",
      "./files/4_split_400/奇瑞--奇瑞汽车--旗云2--2012_v2\n",
      "./files/4_split_400/奇瑞--奇瑞汽车--奇瑞E3--2013\n",
      "./files/4_split_400/吉利v1--吉利汽车--经典帝豪--2009_v1--2013_v2--两厢--2010--2011--2012_v1--2013\n",
      "./files/4_split_400/长城--长城汽车--长城C50--2014\n",
      "./files/4_split_400/大众--上海大众--POLO--2011_v1--2013_v1\n",
      "./files/4_split_400/雪铁龙--进口雪铁龙--雪铁龙C4--2006\n",
      "./files/4_split_400/长城--长城汽车--长城C20R--2011--2013\n",
      "./files/4_split_400/比亚迪--比亚迪--比亚迪L3--2010--2011--2012--2013--2015\n",
      "./files/4_split_400/本田--东风本田--思铂睿--2009\n",
      "./files/4_split_400/比亚迪--比亚迪--秦--2014--2015\n",
      "./files/4_split_400/比亚迪--比亚迪--比亚迪F3R--2008--2011\n",
      "./files/4_split_400/北汽--新能源--北汽新能源--EV系列--2015\n",
      "./files/4_split_400/奔驰--进口奔驰--C级(进口)--2010\n",
      "./files/4_split_400/马自达--一汽马自达--睿翼--2009--2010--2011\n",
      "./files/4_split_400/铃木v1--长安铃木--天语SX4锐骑--2012--2013\n",
      "./files/4_split_400/奔驰--北汽奔驰--E级--2014_v1--2015_v1\n",
      "./files/4_split_400/宝马--进口宝马--宝马3系GT(进口)--2013--2015\n",
      "./files/4_split_400/大众--一汽大众--大众CC--2013--2015_v1\n",
      "./files/4_split_400/本田--广汽本田--雅阁--2011\n",
      "./files/4_split_400/铃木v1--昌河铃木--利亚纳--两厢三厢--2008--2010--2011_v1--2012_v1\n"
     ]
    },
    {
     "name": "stdout",
     "output_type": "stream",
     "text": [
      "./files/4_split_400/起亚--东风悦达起亚--秀尔--2012_v2--2013\n",
      "./files/4_split_400/长安v1--长安汽车--奔奔--2014--2015\n",
      "./files/4_split_400/本田--东风本田--思铭--2012--2015\n",
      "./files/4_split_400/东风--东风--风神S30--2013--2014\n",
      "./files/4_split_400/起亚--东风悦达起亚--起亚K3--2014\n",
      "./files/4_split_400/马自达--长安马自达--马自达3--2007_v2--2010--2012\n",
      "./files/4_split_400/众泰--众泰汽车--众泰Z300--2012--2013--2014\n",
      "./files/4_split_400/比亚迪--比亚迪--比亚迪G3--2010--2011--2012--比亚迪G3R--2011\n",
      "./files/4_split_400/大众--上海大众--POLO劲取--2011\n",
      "./files/4_split_400/凯迪拉克--进口凯迪拉克--凯迪拉克CTS(进口)--2014\n",
      "./files/4_split_400/长安v1--长安汽车--逸动XT--2013--2015\n",
      "./files/4_split_400/大众--上海大众--帕萨特--2013_v1--朗逸--2014_v3--迈腾--2013_v2\n",
      "./files/4_split_400/福特--长安福特--福克斯--两厢三厢--2011\n",
      "./files/4_split_400/东南--东南汽车--V3菱悦--2014_v2\n",
      "./files/4_split_400/雪铁龙--东风雪铁龙--全新爱丽舍--2014\n",
      "./files/4_split_400/北汽--绅宝--北京汽车--绅宝D70--2013_v2\n",
      "./files/4_split_400/本田--广汽本田--锋范--2009--2012\n",
      "./files/4_split_400/福特--长安福特--嘉年华--两厢--2013--三厢--2013\n",
      "./files/4_split_400/中华--华晨中华--中华H530--2011--2012--2014\n",
      "./files/4_split_400/起亚--东风悦达起亚--秀尔--2010--2012_v1\n",
      "./files/4_split_400/风行--风行汽车--景逸--2011_v3--2012_v2--2014_v2\n",
      "./files/4_split_400/荣威--上汽荣威--荣威750--2011_v2\n",
      "./files/4_split_400/福特--长安福特--福克斯--两厢三厢--2012\n",
      "./files/4_split_400/海马--海马汽车--欢动--2009\n",
      "./files/4_split_400/三菱--东南三菱--戈蓝--2009\n",
      "./files/4_split_400/MG--MG3--2011--2013\n",
      "./files/4_split_400/广汽传祺--广汽传祺--传祺GA3--2013--2014\n",
      "./files/4_split_400/日产--东风日产--骊威--2013_v1\n",
      "./files/4_split_400/雪铁龙--东风雪铁龙--雪铁龙C5--2010--2011--2012\n",
      "./files/4_split_400/中华--华晨中华--中华骏捷FSV--2011\n",
      "./files/4_split_400/宝骏--上海通用五菱宝骏--乐驰--2012\n",
      "./files/4_split_400/铃木v1--长安铃木--奥拓--2013\n",
      "./files/4_split_400/长城--长城汽车--长城C30--2010\n",
      "./files/4_split_400/广汽传祺--广汽传祺--传祺GA5--2012_v2--2013\n",
      "./files/4_split_400/一汽--天津一汽--威志V2--2010--2012\n",
      "./files/4_split_400/吉利v4--吉利汽车--海景--2010--"
     ]
    },
    {
     "data": {
      "text/html": [
       "<b>limit_output extension: Maximum message size of 10000 exceeded with 10017 characters</b>"
      ]
     },
     "metadata": {},
     "output_type": "display_data"
    }
   ],
   "source": [
    "%%time\n",
    "for class_label, class_dir in tqdm(enumerate(class_dirs)):\n",
    "    print(class_dir)\n",
    "    train_list, test_list = list_split(get_all_images(class_dir, shuffle = False),\n",
    "                                       ratio = [0.6, 0.4], shuffle = False)\n",
    "    for image_path in train_list:    \n",
    "        _, _, roi = roi_extraction_1(image_path)\n",
    "        roi = resize(roi, is_gray = True, width = 320, height = 160)\n",
    "        feature = cvhog.compute(roi)\n",
    "        x_train.append(feature)\n",
    "        y_train.append(class_label)\n",
    " \n",
    "    for image_path in test_list:    \n",
    "        _, _, roi = roi_extraction_1(image_path)\n",
    "        roi = resize(roi, is_gray = True, width = 320, height = 160)\n",
    "        feature = cvhog.compute(roi)\n",
    "        x_test.append(feature)\n",
    "        y_test.append(class_label)"
   ]
  },
  {
   "cell_type": "code",
   "execution_count": 7,
   "metadata": {},
   "outputs": [
    {
     "name": "stdout",
     "output_type": "stream",
     "text": [
      "feature dim : 3780\n"
     ]
    }
   ],
   "source": [
    "f_dim = x_test[0].shape[0]\n",
    "print(f\"feature dim : {f_dim}\")"
   ]
  },
  {
   "cell_type": "code",
   "execution_count": 8,
   "metadata": {},
   "outputs": [],
   "source": [
    "x_train = np.asarray(x_train).reshape(-1, f_dim)\n",
    "x_test = np.asarray(x_test).reshape(-1, f_dim)"
   ]
  },
  {
   "cell_type": "code",
   "execution_count": 9,
   "metadata": {},
   "outputs": [
    {
     "data": {
      "text/plain": [
       "(5752, 3780)"
      ]
     },
     "execution_count": 9,
     "metadata": {},
     "output_type": "execute_result"
    }
   ],
   "source": [
    "x_train.shape"
   ]
  },
  {
   "cell_type": "code",
   "execution_count": null,
   "metadata": {},
   "outputs": [
    {
     "name": "stdout",
     "output_type": "stream",
     "text": [
      "Fitting 5 folds for each of 24 candidates, totalling 120 fits\n"
     ]
    },
    {
     "name": "stderr",
     "output_type": "stream",
     "text": [
      "[Parallel(n_jobs=1)]: Using backend SequentialBackend with 1 concurrent workers.\n"
     ]
    }
   ],
   "source": [
    "%%time\n",
    "# Grid Search\n",
    "# Parameter Grid\n",
    "param_grid = {'C': [0.1, 1, 10, 100], 'gamma': [1, 0.1, 0.01, 0.001, 0.00001, 10]}\n",
    " \n",
    "# Make grid search classifier\n",
    "clf_grid = GridSearchCV(svm.SVC(), param_grid, verbose=1, pre_dispatch = cpu_count//2)\n",
    " \n",
    "# Train the classifier\n",
    "clf_grid.fit(x_train, y_train)\n",
    "\n",
    "# clf = grid.best_estimator_()\n",
    "print(\"Best Parameters:\\n\", clf_grid.best_params_)\n",
    "print(\"Best Estimators:\\n\", clf_grid.best_estimator_)"
   ]
  },
  {
   "cell_type": "code",
   "execution_count": null,
   "metadata": {},
   "outputs": [],
   "source": [
    "# Make predictions on unseen test data\n",
    "y_pred = clf_grid.predict(x_test)\n",
    "# print(\"Accuracy: {}%\".format(clf_grid.score(x_test, y_test) * 100 ))"
   ]
  },
  {
   "cell_type": "code",
   "execution_count": null,
   "metadata": {},
   "outputs": [],
   "source": [
    "overall_acc = overall_accuracy(y_test, y_pred)\n",
    "m_prec = mean_prec(y_test, y_pred)\n",
    "m_recall = mean_recall(y_test, y_pred)\n",
    "\n",
    "print(f\"Over all acc : {overall_acc*100:.2f}%\\nmean prec : {m_prec*100:.2f}%\\nmean recall : {m_recall*100:.2f}%\")"
   ]
  },
  {
   "cell_type": "code",
   "execution_count": null,
   "metadata": {},
   "outputs": [],
   "source": [
    "GridSearchCV?"
   ]
  },
  {
   "cell_type": "code",
   "execution_count": null,
   "metadata": {},
   "outputs": [],
   "source": []
  },
  {
   "cell_type": "code",
   "execution_count": null,
   "metadata": {},
   "outputs": [],
   "source": []
  },
  {
   "cell_type": "code",
   "execution_count": null,
   "metadata": {},
   "outputs": [],
   "source": []
  },
  {
   "cell_type": "code",
   "execution_count": null,
   "metadata": {},
   "outputs": [],
   "source": []
  },
  {
   "cell_type": "code",
   "execution_count": null,
   "metadata": {},
   "outputs": [],
   "source": []
  },
  {
   "cell_type": "markdown",
   "metadata": {},
   "source": [
    "- roi plan 1"
   ]
  },
  {
   "cell_type": "raw",
   "metadata": {},
   "source": [
    "lp_coords, roi_coords, roi = roi_extraction_1(image_path)\n",
    "lp_x1, lp_y1, lp_x2, lp_y2 = lp_coords\n",
    "roi_x1, roi_y1, roi_x2, roi_y2 = roi_coords"
   ]
  },
  {
   "cell_type": "raw",
   "metadata": {},
   "source": [
    "image = imread(image_path)"
   ]
  },
  {
   "cell_type": "raw",
   "metadata": {},
   "source": [
    "plt.figure(figsize=(16, 6.5))\n",
    "\n",
    "plt.title(\"ROI plan 1\")\n",
    "plt.imshow(image)\n",
    "plt.gca().add_patch(plt.Rectangle(xy = (lp_x1, lp_y1), \n",
    "                                  width = lp_x2 - lp_x1, height = lp_y2 - lp_y1, edgecolor = 'red', fill = False, linewidth = 2))\n",
    "\n",
    "plt.gca().add_patch(plt.Rectangle(xy = (roi_x1, roi_y1), \n",
    "                                  width = roi_x2 - roi_x1, height = roi_y2 - roi_y1, edgecolor = 'red', fill = False, linewidth = 2))\n",
    "\n",
    "plt.plot()\n",
    "plt.axis(\"off\");"
   ]
  },
  {
   "cell_type": "raw",
   "metadata": {},
   "source": [
    "lp_coords, roi_coords, roi = roi_extraction_2(image_path)\n",
    "lp_x1, lp_y1, lp_x2, lp_y2 = lp_coords\n",
    "roi_x1, roi_y1, roi_x2, roi_y2 = roi_coords"
   ]
  },
  {
   "cell_type": "raw",
   "metadata": {},
   "source": [
    "plt.figure(figsize=(16, 6.5))\n",
    "\n",
    "plt.title(\"ROI plan 2\")\n",
    "plt.imshow(image)\n",
    "plt.gca().add_patch(plt.Rectangle(xy = (lp_x1, lp_y1), \n",
    "                                  width = lp_x2 - lp_x1, height = lp_y2 - lp_y1, edgecolor = 'red', fill = False, linewidth = 2))\n",
    "\n",
    "plt.gca().add_patch(plt.Rectangle(xy = (roi_x1, roi_y1), \n",
    "                                  width = roi_x2 - roi_x1, height = roi_y2 - roi_y1, edgecolor = 'red', fill = False, linewidth = 2))\n",
    "\n",
    "plt.plot()\n",
    "plt.axis(\"off\");"
   ]
  },
  {
   "cell_type": "code",
   "execution_count": null,
   "metadata": {},
   "outputs": [],
   "source": []
  },
  {
   "cell_type": "code",
   "execution_count": null,
   "metadata": {},
   "outputs": [],
   "source": []
  },
  {
   "cell_type": "raw",
   "metadata": {},
   "source": [
    "image = imread(image_path)"
   ]
  },
  {
   "cell_type": "raw",
   "metadata": {},
   "source": [
    "plt.figure(figsize = (18, 6))\n",
    "plt.imshow(image)"
   ]
  },
  {
   "cell_type": "code",
   "execution_count": null,
   "metadata": {},
   "outputs": [],
   "source": []
  },
  {
   "cell_type": "code",
   "execution_count": null,
   "metadata": {},
   "outputs": [],
   "source": []
  },
  {
   "cell_type": "code",
   "execution_count": null,
   "metadata": {},
   "outputs": [],
   "source": []
  },
  {
   "cell_type": "code",
   "execution_count": null,
   "metadata": {},
   "outputs": [],
   "source": []
  }
 ],
 "metadata": {
  "kernelspec": {
   "display_name": "Python 3",
   "language": "python",
   "name": "python3"
  },
  "language_info": {
   "codemirror_mode": {
    "name": "ipython",
    "version": 3
   },
   "file_extension": ".py",
   "mimetype": "text/x-python",
   "name": "python",
   "nbconvert_exporter": "python",
   "pygments_lexer": "ipython3",
   "version": "3.6.9"
  },
  "varInspector": {
   "cols": {
    "lenName": 16,
    "lenType": 16,
    "lenVar": 40
   },
   "kernels_config": {
    "python": {
     "delete_cmd_postfix": "",
     "delete_cmd_prefix": "del ",
     "library": "var_list.py",
     "varRefreshCmd": "print(var_dic_list())"
    },
    "r": {
     "delete_cmd_postfix": ") ",
     "delete_cmd_prefix": "rm(",
     "library": "var_list.r",
     "varRefreshCmd": "cat(var_dic_list()) "
    }
   },
   "position": {
    "height": "144px",
    "left": "1069px",
    "right": "20px",
    "top": "120px",
    "width": "350px"
   },
   "types_to_exclude": [
    "module",
    "function",
    "builtin_function_or_method",
    "instance",
    "_Feature"
   ],
   "window_display": false
  }
 },
 "nbformat": 4,
 "nbformat_minor": 4
}
