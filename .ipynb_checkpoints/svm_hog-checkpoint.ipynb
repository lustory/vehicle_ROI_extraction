{
 "cells": [
  {
   "cell_type": "code",
   "execution_count": 1,
   "metadata": {},
   "outputs": [],
   "source": [
    "%run utils.ipynb\n",
    "random.seed(1)"
   ]
  },
  {
   "cell_type": "code",
   "execution_count": 2,
   "metadata": {},
   "outputs": [],
   "source": [
    "root_dir = \"./files/4_split_400/\""
   ]
  },
  {
   "cell_type": "code",
   "execution_count": 3,
   "metadata": {},
   "outputs": [
    {
     "name": "stdout",
     "output_type": "stream",
     "text": [
      "400 classes\n"
     ]
    }
   ],
   "source": [
    "class_dirs = [os.path.join(root_dir, i) for i in os.listdir(root_dir)]\n",
    "random.shuffle(class_dirs)\n",
    "print(f\"{len(class_dirs)} classes\")"
   ]
  },
  {
   "cell_type": "code",
   "execution_count": 4,
   "metadata": {},
   "outputs": [],
   "source": [
    "class_dirs = class_dirs[:300]"
   ]
  },
  {
   "cell_type": "code",
   "execution_count": 5,
   "metadata": {},
   "outputs": [],
   "source": [
    "x_train, y_train = [], []\n",
    "x_test, y_test = [], []"
   ]
  },
  {
   "cell_type": "code",
   "execution_count": 6,
   "metadata": {},
   "outputs": [
    {
     "data": {
      "application/vnd.jupyter.widget-view+json": {
       "model_id": "2348581879b04e29b9c1038df7bb8a54",
       "version_major": 2,
       "version_minor": 0
      },
      "text/plain": [
       "HBox(children=(FloatProgress(value=1.0, bar_style='info', max=1.0), HTML(value='')))"
      ]
     },
     "metadata": {},
     "output_type": "display_data"
    },
    {
     "ename": "error",
     "evalue": "OpenCV(4.2.0) /io/opencv/modules/imgproc/src/color.cpp:182: error: (-215:Assertion failed) !_src.empty() in function 'cvtColor'\n",
     "output_type": "error",
     "traceback": [
      "\u001b[0;31m\u001b[0m",
      "\u001b[0;31merror\u001b[0mTraceback (most recent call last)",
      "\u001b[0;32m<timed exec>\u001b[0m in \u001b[0;36m<module>\u001b[0;34m\u001b[0m\n",
      "\u001b[0;32m<ipython-input-1-5885a11e46ce>\u001b[0m in \u001b[0;36mroi_extraction_with_hood\u001b[0;34m(input_image)\u001b[0m\n\u001b[1;32m     34\u001b[0m     \u001b[0mroi_y1\u001b[0m \u001b[0;34m=\u001b[0m \u001b[0mnp\u001b[0m\u001b[0;34m.\u001b[0m\u001b[0margmax\u001b[0m\u001b[0;34m(\u001b[0m\u001b[0my_project\u001b[0m\u001b[0;34m)\u001b[0m \u001b[0;34m+\u001b[0m \u001b[0msr_y1\u001b[0m\u001b[0;34m\u001b[0m\u001b[0;34m\u001b[0m\u001b[0m\n\u001b[1;32m     35\u001b[0m \u001b[0;34m\u001b[0m\u001b[0m\n\u001b[0;32m---> 36\u001b[0;31m     \u001b[0mraw_roi\u001b[0m \u001b[0;34m=\u001b[0m \u001b[0mcv2\u001b[0m\u001b[0;34m.\u001b[0m\u001b[0mcvtColor\u001b[0m\u001b[0;34m(\u001b[0m\u001b[0mimage\u001b[0m\u001b[0;34m[\u001b[0m\u001b[0mroi_y1\u001b[0m \u001b[0;34m:\u001b[0m \u001b[0mlp_y1\u001b[0m\u001b[0;34m,\u001b[0m \u001b[0msr_x1\u001b[0m \u001b[0;34m:\u001b[0m \u001b[0msr_x2\u001b[0m\u001b[0;34m]\u001b[0m\u001b[0;34m,\u001b[0m \u001b[0mcv2\u001b[0m\u001b[0;34m.\u001b[0m\u001b[0mCOLOR_BGR2GRAY\u001b[0m\u001b[0;34m)\u001b[0m\u001b[0;34m\u001b[0m\u001b[0;34m\u001b[0m\u001b[0m\n\u001b[0m\u001b[1;32m     37\u001b[0m \u001b[0;31m#     raw_roi_color = cv2.cvtColor(image[roi_y1 : lp_y1, sr_x1 : sr_x2], cv2.COLOR_BGR2RGB)\u001b[0m\u001b[0;34m\u001b[0m\u001b[0;34m\u001b[0m\u001b[0;34m\u001b[0m\u001b[0m\n\u001b[1;32m     38\u001b[0m \u001b[0;34m\u001b[0m\u001b[0m\n",
      "\u001b[0;31merror\u001b[0m: OpenCV(4.2.0) /io/opencv/modules/imgproc/src/color.cpp:182: error: (-215:Assertion failed) !_src.empty() in function 'cvtColor'\n"
     ]
    }
   ],
   "source": [
    "%%time\n",
    "for class_label, class_dir in tqdm(enumerate(class_dirs)):\n",
    "    train_list, test_list = list_split(get_all_images(class_dir, shuffle = False),\n",
    "                                       ratio = [0.4, 0.6], shuffle = False)\n",
    "    try:\n",
    "        for image_path in train_list:    \n",
    "            _, _, roi = roi_extraction_with_hood(image_path)\n",
    "            roi = resize(roi, is_gray = True, width = 256, height = 128)\n",
    "            feature = cvhog.compute(roi)\n",
    "            x_train.append(feature)\n",
    "            y_train.append(class_label)\n",
    " \n",
    "        for image_path in test_list:    \n",
    "            _, _, roi = roi_extraction_with_hood(image_path)\n",
    "            roi = resize(roi, is_gray = True, width = 256, height = 128)\n",
    "            feature = cvhog.compute(roi)\n",
    "            x_test.append(feature)\n",
    "            y_test.append(class_label)\n",
    "    except:\n",
    "        print(image_path)"
   ]
  },
  {
   "cell_type": "code",
   "execution_count": 7,
   "metadata": {},
   "outputs": [
    {
     "name": "stdout",
     "output_type": "stream",
     "text": [
      "feature dim : 756\n"
     ]
    }
   ],
   "source": [
    "f_dim = x_test[0].shape[0]\n",
    "print(f\"feature dim : {f_dim}\")"
   ]
  },
  {
   "cell_type": "code",
   "execution_count": 8,
   "metadata": {},
   "outputs": [],
   "source": [
    "x_train = np.asarray(x_train).reshape(-1, f_dim)\n",
    "x_test = np.asarray(x_test).reshape(-1, f_dim)"
   ]
  },
  {
   "cell_type": "code",
   "execution_count": 9,
   "metadata": {},
   "outputs": [
    {
     "data": {
      "text/plain": [
       "(1060, 756)"
      ]
     },
     "execution_count": 9,
     "metadata": {},
     "output_type": "execute_result"
    }
   ],
   "source": [
    "x_train.shape"
   ]
  },
  {
   "cell_type": "code",
   "execution_count": 10,
   "metadata": {},
   "outputs": [
    {
     "name": "stdout",
     "output_type": "stream",
     "text": [
      "Fitting 3 folds for each of 24 candidates, totalling 72 fits\n"
     ]
    },
    {
     "name": "stderr",
     "output_type": "stream",
     "text": [
      "[Parallel(n_jobs=-1)]: Using backend LokyBackend with 8 concurrent workers.\n",
      "[Parallel(n_jobs=-1)]: Done  34 tasks      | elapsed:    6.2s\n",
      "[Parallel(n_jobs=-1)]: Done  72 out of  72 | elapsed:   11.4s finished\n"
     ]
    },
    {
     "name": "stdout",
     "output_type": "stream",
     "text": [
      "Best Parameters:\n",
      " {'C': 100, 'gamma': 0.01}\n",
      "Best Estimators:\n",
      " SVC(C=100, break_ties=False, cache_size=200, class_weight=None, coef0=0.0,\n",
      "    decision_function_shape='ovr', degree=3, gamma=0.01, kernel='rbf',\n",
      "    max_iter=-1, probability=False, random_state=None, shrinking=True,\n",
      "    tol=0.001, verbose=False)\n",
      "CPU times: user 1.17 s, sys: 51.3 ms, total: 1.22 s\n",
      "Wall time: 12.4 s\n"
     ]
    }
   ],
   "source": [
    "%%time\n",
    "# Grid Search\n",
    "# Parameter Grid\n",
    "param_grid = {'C': [0.1, 1, 10, 100], 'gamma': [1, 0.1, 0.01, 0.001, 0.00001, 10]}\n",
    " \n",
    "# Make grid search classifier\n",
    "clf_grid = GridSearchCV(svm.SVC(), param_grid, verbose=1, cv = 3, n_jobs = -1) #, pre_dispatch = cpu_count//2\n",
    " \n",
    "# Train the classifier\n",
    "clf_grid.fit(x_train, y_train)\n",
    "\n",
    "# clf = grid.best_estimator_()\n",
    "print(\"Best Parameters:\\n\", clf_grid.best_params_)\n",
    "print(\"Best Estimators:\\n\", clf_grid.best_estimator_)"
   ]
  },
  {
   "cell_type": "code",
   "execution_count": 11,
   "metadata": {},
   "outputs": [],
   "source": [
    "# Make predictions on unseen test data\n",
    "y_pred = clf_grid.predict(x_test)\n",
    "# print(\"Accuracy: {}%\".format(clf_grid.score(x_test, y_test) * 100 ))"
   ]
  },
  {
   "cell_type": "code",
   "execution_count": 12,
   "metadata": {},
   "outputs": [
    {
     "name": "stdout",
     "output_type": "stream",
     "text": [
      "Over all acc : 88.77%\n",
      "mean prec : 87.01%\n",
      "mean recall : 82.99%\n"
     ]
    }
   ],
   "source": [
    "overall_acc = overall_accuracy(y_test, y_pred)\n",
    "m_prec = mean_prec(y_test, y_pred)\n",
    "m_recall = mean_recall(y_test, y_pred)\n",
    "\n",
    "print(f\"Over all acc : {overall_acc*100:.2f}%\\nmean prec : {m_prec*100:.2f}%\\nmean recall : {m_recall*100:.2f}%\")"
   ]
  },
  {
   "cell_type": "raw",
   "metadata": {},
   "source": [
    "Over all acc : 89.46%\n",
    "mean prec : 88.51%\n",
    "mean recall : 85.63%"
   ]
  },
  {
   "cell_type": "raw",
   "metadata": {},
   "source": [
    "roi_1   400  \n",
    "\n",
    "Over all acc : 89.46%\n",
    "mean prec : 88.51%\n",
    "mean recall : 85.63%\n",
    "\n",
    "300\n",
    "Over all acc : 91.32%\n",
    "mean prec : 89.97%\n",
    "mean recall : 87.31%"
   ]
  },
  {
   "cell_type": "raw",
   "metadata": {},
   "source": [
    "roi_2  \n",
    "\n",
    "400   \n",
    "\n",
    "Over all acc : 86.31%\n",
    "mean prec : 85.21%\n",
    "mean recall : 81.84%\n",
    "\n",
    "300\n",
    "\n",
    "Over all acc : 88.28%\n",
    "mean prec : 87.23%\n",
    "mean recall : 83.73%"
   ]
  },
  {
   "cell_type": "code",
   "execution_count": null,
   "metadata": {},
   "outputs": [],
   "source": []
  }
 ],
 "metadata": {
  "kernelspec": {
   "display_name": "Python 3",
   "language": "python",
   "name": "python3"
  },
  "language_info": {
   "codemirror_mode": {
    "name": "ipython",
    "version": 3
   },
   "file_extension": ".py",
   "mimetype": "text/x-python",
   "name": "python",
   "nbconvert_exporter": "python",
   "pygments_lexer": "ipython3",
   "version": "3.6.9"
  },
  "varInspector": {
   "cols": {
    "lenName": 16,
    "lenType": 16,
    "lenVar": 40
   },
   "kernels_config": {
    "python": {
     "delete_cmd_postfix": "",
     "delete_cmd_prefix": "del ",
     "library": "var_list.py",
     "varRefreshCmd": "print(var_dic_list())"
    },
    "r": {
     "delete_cmd_postfix": ") ",
     "delete_cmd_prefix": "rm(",
     "library": "var_list.r",
     "varRefreshCmd": "cat(var_dic_list()) "
    }
   },
   "position": {
    "height": "144px",
    "left": "1069px",
    "right": "20px",
    "top": "120px",
    "width": "350px"
   },
   "types_to_exclude": [
    "module",
    "function",
    "builtin_function_or_method",
    "instance",
    "_Feature"
   ],
   "window_display": false
  }
 },
 "nbformat": 4,
 "nbformat_minor": 4
}
